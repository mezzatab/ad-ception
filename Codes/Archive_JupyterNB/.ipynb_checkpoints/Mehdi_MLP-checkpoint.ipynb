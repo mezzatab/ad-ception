{
 "cells": [
  {
   "cell_type": "markdown",
   "metadata": {},
   "source": [
    "## Start from The beginning ## "
   ]
  },
  {
   "cell_type": "markdown",
   "metadata": {},
   "source": [
    "## Time series from (0,T) using sliding window turn into small images with output Pressure ## "
   ]
  },
  {
   "cell_type": "code",
   "execution_count": 1,
   "metadata": {},
   "outputs": [
    {
     "ename": "ModuleNotFoundError",
     "evalue": "No module named 'numpy'",
     "output_type": "error",
     "traceback": [
      "\u001b[0;31m---------------------------------------------------------------------------\u001b[0m",
      "\u001b[0;31mModuleNotFoundError\u001b[0m                       Traceback (most recent call last)",
      "\u001b[0;32m<ipython-input-1-2e86b177a3e6>\u001b[0m in \u001b[0;36m<module>\u001b[0;34m\u001b[0m\n\u001b[0;32m----> 1\u001b[0;31m \u001b[0;32mimport\u001b[0m \u001b[0mnumpy\u001b[0m \u001b[0;32mas\u001b[0m \u001b[0mnp\u001b[0m\u001b[0;34m\u001b[0m\u001b[0;34m\u001b[0m\u001b[0m\n\u001b[0m\u001b[1;32m      2\u001b[0m \u001b[0;32mimport\u001b[0m \u001b[0mpandas\u001b[0m \u001b[0;32mas\u001b[0m \u001b[0mpd\u001b[0m\u001b[0;34m\u001b[0m\u001b[0;34m\u001b[0m\u001b[0m\n\u001b[1;32m      3\u001b[0m \u001b[0;32mimport\u001b[0m \u001b[0mtensorflow\u001b[0m \u001b[0;32mas\u001b[0m \u001b[0mtf\u001b[0m\u001b[0;34m\u001b[0m\u001b[0;34m\u001b[0m\u001b[0m\n\u001b[1;32m      4\u001b[0m \u001b[0;32mimport\u001b[0m \u001b[0mmatplotlib\u001b[0m\u001b[0;34m.\u001b[0m\u001b[0mpyplot\u001b[0m \u001b[0;32mas\u001b[0m \u001b[0mplt\u001b[0m\u001b[0;34m\u001b[0m\u001b[0;34m\u001b[0m\u001b[0m\n\u001b[1;32m      5\u001b[0m \u001b[0;32mimport\u001b[0m \u001b[0mmath\u001b[0m\u001b[0;34m\u001b[0m\u001b[0;34m\u001b[0m\u001b[0m\n",
      "\u001b[0;31mModuleNotFoundError\u001b[0m: No module named 'numpy'"
     ]
    }
   ],
   "source": [
    "import numpy as np\n",
    "import pandas as pd\n",
    "import tensorflow as tf\n",
    "import matplotlib.pyplot as plt\n",
    "import math\n",
    "import time\n",
    "from sklearn import preprocessing\n",
    "from sklearn.preprocessing import minmax_scale\n",
    "from tensorflow import keras, set_random_seed\n",
    "from tensorflow.keras.models import Sequential\n",
    "from tensorflow.keras.layers import Dense, Dropout, Conv1D, LSTM, MaxPooling1D, Flatten, SimpleRNN\n",
    "from sklearn.preprocessing import MinMaxScaler\n",
    "from sklearn.metrics import mean_squared_error\n",
    "%matplotlib inline\n",
    "np.random.seed(42)\n",
    "set_random_seed(42)\n",
    "from scipy.signal import medfilt"
   ]
  },
  {
   "cell_type": "code",
   "execution_count": 2,
   "metadata": {},
   "outputs": [
    {
     "ename": "ModuleNotFoundError",
     "evalue": "No module named 'pandas'",
     "output_type": "error",
     "traceback": [
      "\u001b[0;31m---------------------------------------------------------------------------\u001b[0m",
      "\u001b[0;31mModuleNotFoundError\u001b[0m                       Traceback (most recent call last)",
      "\u001b[0;32m<ipython-input-2-38d4b0363d82>\u001b[0m in \u001b[0;36m<module>\u001b[0;34m\u001b[0m\n\u001b[0;32m----> 1\u001b[0;31m \u001b[0;32mimport\u001b[0m \u001b[0mpandas\u001b[0m\u001b[0;34m\u001b[0m\u001b[0;34m\u001b[0m\u001b[0m\n\u001b[0m",
      "\u001b[0;31mModuleNotFoundError\u001b[0m: No module named 'pandas'"
     ]
    }
   ],
   "source": [
    "import pandas"
   ]
  },
  {
   "cell_type": "code",
   "execution_count": 3,
   "metadata": {},
   "outputs": [],
   "source": [
    "def readFiles(ID):\n",
    "    Name='../Data/full'+ID+'.csv'\n",
    "    return pd.read_csv(Name)\n",
    "\n",
    "listNames=[\"4230133468\",\"4247536931\",\"4247537091\",\"4247537106\",\"l4247537154\",\"4247537186\"]\n",
    "list_Params=['date_time','stage_number','prop_conc_1','bh_prop_conc','fr_conc_2','slurry_rate','wellhead_pressure_1']"
   ]
  },
  {
   "cell_type": "code",
   "execution_count": 4,
   "metadata": {},
   "outputs": [],
   "source": [
    "def Preprocess(df,List):\n",
    "    df=df[List]\n",
    "    df = df[(df.slurry_rate > 0 )]\n",
    "    df = df[(df.prop_conc_1 > 0)]    \n",
    "    df['date_time']=pd.to_datetime(df.date_time.iloc[:])#-df.date_time.iloc[0])#.dt.total_seconds()\n",
    "    t = list((df.date_time-df.date_time.iloc[0]).dt.total_seconds())\n",
    "    df['time'] = list(t)   \n",
    "    return df \n",
    "\n",
    "def diff_Scale(df,stage_num):\n",
    "    df1=df[(df.stage_number==stage_num)].copy()\n",
    "    prConc=list(df1[\"prop_conc_1\"])\n",
    "    ##list(minmax_scale(df1[[\"prop_conc_1\"]],feature_range=(0,1)))\n",
    "#    print(prConc)\n",
    "#    prConc=[val[0] for val in prConc]\n",
    "    dPrConc=[0]\n",
    "    for i in range(1,len(prConc)):\n",
    "        dPrConc.append(prConc[i]-prConc[i-1])\n",
    "\n",
    "    df1.P-scaledFrame.P.iloc[0]        \n",
    "    P=list(df1[\"wellhead_pressure_1\"])\n",
    "    #list(minmax_scale(df1[[\"wellhead_pressure_1\"]],feature_range=(0,1)))\n",
    "#    P=[val[0] for val in P]\n",
    "    \n",
    "    dP=[0]\n",
    "    for i in range(1,len(P)):\n",
    "        dP.append(P[i]-P[i-1])\n",
    "        \n",
    "    frConc=list(df1[\"fr_conc_2\"])\n",
    "    #list(minmax_scale(df1[[\"fr_conc_2\"]],feature_range=(0,1)))\n",
    "#    frConc=[val[0] for val in frConc]\n",
    "\n",
    "    dFrConc=[0]\n",
    "    for i in range(1,len(frConc)):\n",
    "        dFrConc.append(frConc[i]-frConc[i-1])\n",
    "\n",
    "    \n",
    "    \n",
    "#    sRate=list(minmax_scale(df1[['slurry_rate']],feature_range=(0,1)))\n",
    "    sRate=list(df1['slurry_rate'])\n",
    "    bPrConc=list(df1['bh_prop_conc'])\n",
    "    dBprConc=[0]\n",
    "    for i in range(1,len(bPrConc)):\n",
    "        dBprConc.append(bPrConc[i]-bPrConc[i-1])\n",
    "    \n",
    "    Z=df1[['time']].values\n",
    "#    print(Z[0,0])\n",
    "    time=[t[0]-Z[0,0] for t in df1[['time']].values]\n",
    "    return pd.DataFrame({'Time':time,'P':P,'dP':dP, 'frConc':frConc, 'Diff_FracConc':dFrConc,'sRate':sRate,'prConc':prConc, 'Diff_prConc':dPrConc ,'bPropConc':bPrConc ,'Diff_bPropConc':dBprConc})\n",
    "    \n",
    "def diff_Scale_midfil(df,stage_num):\n",
    "    filter_size = 59\n",
    "    df1=df[(df.stage_number==stage_num)].copy()\n",
    "\n",
    "#    prConc=list(df1[\"prop_conc_1\"])\n",
    "\n",
    "    #### median filter\n",
    "    prConc = medfilt(df1.prop_conc_1,filter_size)\n",
    "\n",
    "    #### median filter\n",
    "    P = medfilt(df1.wellhead_pressure_1,filter_size)\n",
    "    dP=[]\n",
    "    for i in range(len(P)-1):\n",
    "        dP.append(P[i+1]-P[i])\n",
    "    dP.append(0)\n",
    "    #### median filter\n",
    "    frConc = medfilt(df1.fr_conc_2,filter_size)\n",
    "\n",
    "\n",
    "#    sRate=list(minmax_scale(df1[['slurry_rate']],feature_range=(0,1)))\n",
    "    #### median filter\n",
    "    sRate = medfilt(df1.slurry_rate,filter_size)\n",
    "    bPrConc = medfilt(df1.bh_prop_conc,filter_size)\n",
    "\n",
    "\n",
    "#    sRate=list(df1['slurry_rate'])\n",
    "#    bPrConc=list(df1['bh_prop_conc'])\n",
    "    dBprConc=[0]\n",
    "    for i in range(1,len(bPrConc)):\n",
    "        dBprConc.append(bPrConc[i]-bPrConc[i-1])\n",
    "\n",
    "    Z=df1[['time']].values\n",
    "    time=[t[0]-Z[0,0] for t in df1[['time']].values]\n",
    "    return pd.DataFrame({'Time':time,'P':P,'dP':dP, 'frConc':frConc,'sRate':sRate,'prConc':prConc, 'bPropConc':bPrConc})    \n",
    "#    return pd.DataFrame({'Time':time,'P':P,'dP':dP, 'frConc':frConc, 'Diff_FracConc':dFrConc,'sRate':sRate,'prConc':prConc, 'Diff_prConc':dPrConc ,'bPropConc':bPrConc ,'Diff_bPropConc':dBprConc})\n"
   ]
  },
  {
   "cell_type": "code",
   "execution_count": 21,
   "metadata": {},
   "outputs": [
    {
     "name": "stdout",
     "output_type": "stream",
     "text": [
      "36 1\n",
      "(8073, 7)\n"
     ]
    }
   ],
   "source": [
    "df=readFiles(\"4230133468\")\n",
    "#print(df)\n",
    "print(df.stage_number.max(),df.stage_number.min())\n",
    "df=Preprocess(df,list_Params)#,15)\n",
    "scaledFrame=diff_Scale_midfil(df,15)\n",
    "print(scaledFrame.shape[:])\n",
    "nframe=scaledFrame[['Time','bPropConc','frConc','sRate','P','dP', 'prConc',]].values"
   ]
  },
  {
   "cell_type": "code",
   "execution_count": 22,
   "metadata": {},
   "outputs": [],
   "source": [
    "scaledFrame.P=scaledFrame.P-scaledFrame.P.iloc[0]\n",
    "#plt.plot(scaledFrame.P)"
   ]
  },
  {
   "cell_type": "code",
   "execution_count": 23,
   "metadata": {},
   "outputs": [],
   "source": [
    "scaledFrame.loc[6350:6550,'P']=np.nan\n",
    "scaledFrame.loc[6350:6550,'sRate']=np.nan\n",
    "scaledFrame['sRate'].interpolate(inplace=True)\n",
    "scaledFrame['P'].interpolate(inplace=True)\n",
    "nframe_NAnamally=scaledFrame[['Time','bPropConc','frConc','sRate','P', 'prConc']].values"
   ]
  },
  {
   "cell_type": "code",
   "execution_count": 26,
   "metadata": {},
   "outputs": [
    {
     "data": {
      "text/plain": [
       "<Figure size 432x288 with 0 Axes>"
      ]
     },
     "metadata": {},
     "output_type": "display_data"
    },
    {
     "data": {
      "image/png": "[encoded data removed]",
      "text/plain": [
       "<Figure size 1008x576 with 6 Axes>"
      ]
     },
     "metadata": {
      "needs_background": "light"
     },
     "output_type": "display_data"
    }
   ],
   "source": [
    "plt.clf()\n",
    "fig, axs = plt.subplots(nrows=6,ncols=1,figsize=(14,8),frameon=True)\n",
    "#plt.xlabel(\"Section\")\n",
    "#plt.ylabel(\"$Pressure$ \")\n",
    "#plt.ylim(7000,8000)\n",
    "#plt.xlim(0,8000)\n",
    "#plt.title(\"With and Without P, CNN-RNN, Stage 15\")\n",
    "#axs[0].set_title(\"Wellhead Pressure\")\n",
    "axs[0].plot(nframe[:,0],nframe[:,5], label=\"Differebce Pressure\",color='r')\n",
    "#axs[0,0].plot(MetricFrame_Reg_nd_NG.Section,MetricFrame_Reg_nd_NG.r2_score, label=\"Reg_NG\")\n",
    "axs[0].legend()\n",
    "axs[0].set_ylim(-10,10)\n",
    "\n",
    "\n",
    "\n",
    "axs[1].plot(nframe[:,0],nframe[:,4], label=\"Wellhead Pressure\",color='r')\n",
    "#axs[0,0].plot(MetricFrame_Reg_nd_NG.Section,MetricFrame_Reg_nd_NG.r2_score, label=\"Reg_NG\")\n",
    "axs[1].legend()\n",
    "#axs[0].set_ylim(-10,10)\n",
    "\n",
    "#axs[0].plot(nframe[:,0],nframe[:,4], label=\"Wellhead Pressure\",color='r')\n",
    "#axs[0,0].plot(MetricFrame_Reg_nd_NG.Section,MetricFrame_Reg_nd_NG.r2_score, label=\"Reg_NG\")\n",
    "#axs[0].legend()\n",
    "#axs[0,0].set_ylim([-1,1])\n",
    "\n",
    "#axs[1].set_title(\"bottom hole proppant concentration\")\n",
    "axs[2].plot(nframe[:,0],nframe[:,1], label=\"bottom hole proppant concentration\")\n",
    "#axs[1,0].plot(MetricFrame_Reg_nd.Section,MetricFrame_Reg_nd.MAPE/100, label=\"Reg\")\n",
    "#axs[0,1].plot(MetricFrame_Reg_nd_NG.Section,MetricFrame_Reg_nd_NG.MAPE, label=\"Reg_NG\")\n",
    "axs[2].legend()\n",
    "\n",
    "#axs[2].set_title(\"proppant concentration\")\n",
    "axs[3].plot(nframe[:,0],nframe[:,6], label=\"proppant concentration\")\n",
    "#axs[2].plot(MetricFrame_Reg_nd_NG.Section,MetricFrame_Reg_nd_NG.SMAPE, label=\"Reg_NG\")\n",
    "axs[3].legend()\n",
    "\n",
    "\n",
    "\n",
    "#axs[2].set_title(\"proppant concentration\")\n",
    "axs[4].plot(nframe[:,0],nframe[:,2], label=\"frConc\")\n",
    "#axs[2].plot(MetricFrame_Reg_nd_NG.Section,MetricFrame_Reg_nd_NG.SMAPE, label=\"Reg_NG\")\n",
    "axs[4].legend()\n",
    "\n",
    "\n",
    "axs[5].plot(nframe[:,0],nframe[:,3], label=\"Slurry Rate\")\n",
    "#axs[2].plot(MetricFrame_Reg_nd_NG.Section,MetricFrame_Reg_nd_NG.SMAPE, label=\"Reg_NG\")\n",
    "axs[5].legend()\n",
    "\n",
    "#plt.savefig(\"Images/Data_Stage15_timeseries.png\")\n",
    "plt.show()"
   ]
  },
  {
   "cell_type": "code",
   "execution_count": 27,
   "metadata": {},
   "outputs": [
    {
     "name": "stdout",
     "output_type": "stream",
     "text": [
      "[7351.   7351.88 7351.96 ... 7389.91 7387.73 7384.21]\n",
      "[ 0.88  0.08  0.27 ... -2.18 -3.52  0.  ]\n"
     ]
    }
   ],
   "source": [
    "print(nframe[:,4])\n",
    "print(nframe[:,5])"
   ]
  },
  {
   "cell_type": "markdown",
   "metadata": {},
   "source": [
    "$dP_i=P_i-P_{i-1}$"
   ]
  },
  {
   "cell_type": "markdown",
   "metadata": {},
   "source": [
    "## Writing a function to decompose the time series into X, Y with sliding window of sample Size, and ending point T ##"
   ]
  },
  {
   "cell_type": "markdown",
   "metadata": {},
   "source": [
    "## Design Engine to have prediction Window in One Go ## "
   ]
  },
  {
   "cell_type": "code",
   "execution_count": 29,
   "metadata": {},
   "outputs": [],
   "source": [
    "from sklearn.metrics import mean_squared_error\n",
    "from functools import partial\n",
    "from collections import defaultdict \n",
    "from pprint import pprint\n",
    "#import WB as WB\n",
    "\n",
    "\n",
    "\n",
    "\n",
    "class WellheadPressurePrediction:\n",
    "\n",
    "    def __init__(self, df, sample_size, test_size):\n",
    "        self.df = df\n",
    "        (self.totalTime, xAxis)=df.shape\n",
    "        self.nFeatures=4\n",
    "        self.sampleSize=sample_size\n",
    "        self.testSize=test_size\n",
    "        self.cY_test=None\n",
    "        self.cYp_test=None  \n",
    "        self.cTime=None        \n",
    "        self.compTime=[]\n",
    "        self.preFry=np.zeros(self.testSize)\n",
    "        self.setupMLP('mse')\n",
    "        \n",
    "        \n",
    "        self.section=0\n",
    "        \n",
    "        self.METRICS = {\n",
    "            \"NMSE\":self.NMSE, # NSE \n",
    "            \"NRMSE\":self.NRMSE, # NSE             \n",
    "            \"RMSE\":self.rmean_squared_error,\n",
    "            \"WB\":self.WB,\n",
    "            \"SMAPE\":self.smape,\n",
    "            \"MAPE\":self.mape\n",
    "        }\n",
    "        \n",
    "        self.metricsGrowth = {\n",
    "            \"NMSE\":[], # NSE \n",
    "            \"NRMSE\":[], # NSE             \n",
    "            \"RMSE\":[],\n",
    "            \"WB\":[],\n",
    "            \"SMAPE\":[],\n",
    "            \"MAPE\":[]\n",
    "\n",
    "            \n",
    "        }\n",
    "        \n",
    "\n",
    "    def setupMLP(self, LOSS='mse'):\n",
    "        print(self.nFeatures)\n",
    "        self.model = Sequential()\n",
    "        size=10        \n",
    "        self.model.add(Dense(size, input_dim=self.nFeatures, activation = 'relu'))\n",
    "        self.model.add(Dense(size, activation = 'relu'))\n",
    "        self.model.add(Dense(1))\n",
    "        self.model.compile(loss=LOSS, optimizer='adam')\n",
    "\n",
    "        \n",
    "    def setupMLP(self, LOSS='mse'):\n",
    "        print(self.nFeatures)\n",
    "        self.model = Sequential()\n",
    "        size=10        \n",
    "        self.model.add(Dense(size, input_dim=self.nFeatures, activation = 'relu'))\n",
    "        self.model.add(Dense(size, activation = 'relu'))\n",
    "        self.model.add(Dense(1))        \n",
    "#        self.model.add(Dense(self.testSize))\n",
    "        self.model.compile(loss=LOSS, optimizer='adam')\n",
    "        \n",
    "        \n",
    "    def metric(self):\n",
    "        for key in self.METRICS.keys():\n",
    "            self.metricsGrowth[key].append(self.METRICS[key](self.Y_test[:,0],self.Yp_test[:,0],self.rT))\n",
    "            \n",
    "    def train(self,T):\n",
    "        self.T=T\n",
    "        self.preprocess()\n",
    "        early_stop = keras.callbacks.EarlyStopping(monitor='loss', patience=1, mode='min')\n",
    "        self.history=self.model.fit(self.X[self.sampleSize:self.T-self.sampleSize], self.Y[self.sampleSize:self.T-self.sampleSize], epochs=100, batch_size=200, verbose=0, callbacks=[early_stop])\n",
    "\n",
    "##########    Iterative Prediction #######################                    \n",
    "    def predict(self):\n",
    "        self.section=self.section+1\n",
    "        self.cellLength=self.testSize+self.sampleSize\n",
    "#        self.tX=self.scalerX.transform(self.df[self.T-self.sampleSize-1:self.T+self.sampleSize+1,:])\n",
    "        self.tX=self.scalerX.transform(self.df[self.T-self.sampleSize-1:self.T+self.testSize+1,:])\n",
    "\n",
    "        self.testX=np.zeros((1,4))        ## One point for prediction ##\n",
    "\n",
    "        ### If the prediction goes byond the existing data file ### rT != testSize\n",
    "        self.rT=self.testSize\n",
    "        if self.T+self.testSize > self.totalTime:\n",
    "            self.rT=self.totalTime-self.T\n",
    "\n",
    "        self.timeTest=np.zeros((self.rT))\n",
    "        for i in range(self.rT):\n",
    "            self.timeTest[i]=self.df[self.T+i,0]\n",
    "#        self.Time=self.Time.tolist()\n",
    "                                                #### Newly adding #####\n",
    "        self.testX[0,0]=self.tX[1:self.sampleSize+1,1]#.tolist()\n",
    "        self.testX[0,1]=self.tX[1:self.sampleSize+1,2]#.tolist()\n",
    "        self.testX[0,2]=self.tX[1:self.sampleSize+1,3]#.tolist()     # #\n",
    "        self.testX[0,3]=self.tX[1:self.sampleSize+1,4]#.tolist()     # #.Pressure Items # #\n",
    "        self.preFry[0]=float(self.model.predict(self.testX))#:self.T-self.sampleSize+self.testSize,:]) ## Just the very next step ##\n",
    "        self.preFry[0]=self.preFry[0]+self.testX[0,3]\n",
    "#        self.preFry[0]=fry\n",
    "#        fry,self.testX[0,3]=self.testX[0,3],fry        \n",
    "        #for j in range(self.sampleSize):\n",
    "        #    fry,self.testX[0,-j-1,3]=self.testX[0,-j-1,3],fry\n",
    "\n",
    "\n",
    "        for i in range(1,self.rT):\n",
    "            self.testX[0,0]=self.tX[i:self.sampleSize+i,1]#.tolist()\n",
    "            self.testX[0,1]=self.tX[i:self.sampleSize+i,2]#.tolist()\n",
    "            self.testX[0,2]=self.tX[i:self.sampleSize+i,3]#.tolist()     ##\n",
    "            self.testX[0,3]=self.preFry[i-1]#self.tX[i:self.sampleSize+i,4]#.tolist()     ##            \n",
    "            self.preFry[i]=float(self.model.predict(self.testX))+self.testX[0,3]\n",
    "            #fry=self.preFry[i]+self.testX[0,-1,3]\n",
    "#            fry=self.preFry[i]+self.testX[0,3]\n",
    "#            self.preFry[i]=fry\n",
    " #           fry,self.testX[0,3]=self.testX[0,3],fry        \n",
    "            \n",
    "#            for j in range(self.sampleSize):\n",
    "#                fry,self.testX[0,-j-1,3]=self.testX[0,-j-1,3],fry\n",
    "\n",
    "\n",
    "        self.Yp_test=self.scalerP.inverse_transform(self.preFry.reshape(-1,1))\n",
    "        self.Yp_test=self.Yp_test[:self.rT]\n",
    "        ###########################\n",
    "        self.Y_test=self.df[self.T:self.T+self.rT,4].reshape(-1,1)    ### The real time data for testing ###\n",
    "        self.metric()\n",
    "        if self.cY_test is not None:\n",
    "            self.cYp_test=np.concatenate((self.cYp_test,self.Yp_test),axis=None)\n",
    "            self.cY_test=np.concatenate((self.cY_test,self.Y_test),axis=None)\n",
    "            self.cTime=np.concatenate((self.cTime,self.timeTest),axis=None)\n",
    "        else:\n",
    "            self.cYp_test=self.Yp_test\n",
    "            self.cY_test=self.Y_test\n",
    "            self.cTime=self.timeTest#-self.tsart\n",
    "\n",
    "##########    Predict with no ground Truth #######################            \n",
    "\n",
    "    def preprocess(self): ## Scaling data for time T and using pressure as input\n",
    "        ### Makse sure T < totalTime\n",
    "        \n",
    "        self.df_slice=self.df[:self.T,:]\n",
    "        self.scalerX=MinMaxScaler(feature_range=(0, 1)) ## Scaling the input ## \n",
    "        self.scalerX=self.scalerX.fit(self.df[:self.T,:])\n",
    "        self.scaledX=self.scalerX.transform(self.df[:self.T,:])\n",
    "        \n",
    "        \n",
    "        \n",
    "#        self.scalerY=MinMaxScaler(feature_range=(-1, 1))\n",
    "#        self.scalerY=self.scalerY.fit(self.df[:self.T,5].reshape(-1,1))\n",
    "#        self.scaledY=self.scalerY.transform(self.df[:self.T-self.sampleSize+self.testSize,5].reshape(-1,1))\n",
    "\n",
    "        self.scalerP=MinMaxScaler(feature_range=(0, 1))\n",
    "        self.scalerP=self.scalerP.fit(self.df[:self.T,4].reshape(-1,1))\n",
    "        self.scaledP=self.scalerP.transform(self.df[:self.T-self.sampleSize+self.testSize,5].reshape(-1,1))\n",
    "        \n",
    "        \n",
    "        self.X=np.zeros((self.T,4))\n",
    "        \n",
    "        self.Y=np.zeros((self.T,self.sampleSize))\n",
    "        for i in range(self.sampleSize,self.T-self.sampleSize): ## To set the marginal border before the totalTime  \n",
    "            self.X[i,0]=self.scaledX[i:i+self.sampleSize,1]#.tolist()\n",
    "            self.X[i,1]=self.scaledX[i:i+self.sampleSize,2]#.tolist()            \n",
    "            self.X[i,2]=self.scaledX[i:i+self.sampleSize,3]#.tolist()     # #               \n",
    "            self.X[i,3]=self.scaledX[i:i+self.sampleSize,4]#.tolist()     # # Pressure Items # # \n",
    "        for i in range(self.sampleSize,self.T-self.sampleSize):                 \n",
    "            self.Y[i,:]=self.X[i+1,3]-self.X[i,3]#self.scaledY[i:i+1,0] ## dP_i =P_i - P_{i-1}\n",
    "\n",
    "##########\n",
    "        \n",
    "\n",
    "    def WB(self, Yo,Yp, L):\n",
    "        sum_o=0\n",
    "        sum_p=0\n",
    "        for i in range(L):\n",
    "            sum_o+=Yo[i]\n",
    "            sum_p+=Yp[i]\n",
    "        return 1-abs(1-sum_p/sum_o)\n",
    "    \n",
    "    def smape(self, Yo,Yp, L):\n",
    "        Sum=0\n",
    "        for i in range(L):\n",
    "            Sum=Sum+2*abs(Yp[i]-Yo[i])/(abs(Yp[i])+abs(Yo[i]))\n",
    "        return Sum/L\n",
    "    \n",
    "    def mape(self, Yo,Yp, L):\n",
    "        Sum=0\n",
    "        for i in range(L):\n",
    "            Sum=Sum+abs(Yp[i]-Yo[i])/(abs(Yo[i]))\n",
    "        return Sum/L\n",
    "    \n",
    "\n",
    "    def NMSE(self, Yo, Yp, L):\n",
    "        sum_o=0\n",
    "        sum_p=0\n",
    "        for i in range(L):\n",
    "            sum_o+=Yo[i]\n",
    "            sum_p+=Yp[i]\n",
    "        meano=sum_o/L\n",
    "        meanp=sum_p/L\n",
    "    \n",
    "        numerator=0\n",
    "        denumerator=0\n",
    "        for i in range(L):\n",
    "            numerator=numerator+(Yp[i]-Yo[i])**2\n",
    "            denumerator=denumerator+(Yo[i]-meano)**2\n",
    "        return 1-numerator/denumerator\n",
    "    \n",
    "    \n",
    "    def NRMSE(self, Yo, Yp, L):\n",
    "        sum_o=0\n",
    "        sum_p=0\n",
    "        for i in range(L):\n",
    "            sum_o+=Yo[i]\n",
    "            sum_p+=Yp[i]\n",
    "        meano=sum_o/L\n",
    "        meanp=sum_p/L\n",
    "    \n",
    "        numerator=0\n",
    "        denumerator=0\n",
    "        for i in range(L):\n",
    "            numerator=numerator+abs(Yp[i]-Yo[i])\n",
    "            denumerator=denumerator+abs(Yo[i]-meano)\n",
    "        return 1-numerator/denumerator\n",
    "\n",
    "    def rmean_squared_error(self, Yo, Yp, L):\n",
    "        Sum=0\n",
    "        for i in range(L):\n",
    "            Sum=Sum+(Yo[i]-Yp[i])**2\n",
    "        return math.sqrt(Sum/L)\n",
    "    def writeOutPut(self,file):\n",
    "        self.DataFrame=pd.DataFrame({'Time':self.cTime,'Forecast':self.cYp_test,'Observation':self.cY_test})\n",
    "        self.MetricFrame=pd.DataFrame({'Section':[self.cTime[self.testSize*i] for i in range(self.section)], 'r2_score':self.metricsGrowth['r2_score'],'MAPE':self.metricsGrowth['MAPE'], 'SMAPE':self.metricsGrowth['SMAPE'],'RMSE':self.metricsGrowth['RMSE'],'CalcTime':self.compTime})        \n",
    "        self.MetricFrame.to_csv(\"MetricFrame_\"+file+\".csv\")\n",
    "        self.DataFrame.to_csv(\"Forecast_\"+file+\".csv\")\n",
    "           \n",
    "  \n",
    "    \n",
    "        "
   ]
  },
  {
   "cell_type": "code",
   "execution_count": 34,
   "metadata": {},
   "outputs": [
    {
     "name": "stdout",
     "output_type": "stream",
     "text": [
      "4\n",
      "67\n",
      "0\n",
      "1\n",
      "2\n",
      "3\n",
      "4\n",
      "5\n",
      "6\n",
      "7\n",
      "8\n",
      "9\n",
      "10\n",
      "11\n",
      "12\n",
      "13\n",
      "14\n",
      "15\n",
      "16\n",
      "17\n",
      "18\n",
      "19\n",
      "20\n",
      "21\n",
      "22\n",
      "23\n",
      "24\n",
      "25\n",
      "26\n",
      "27\n",
      "28\n",
      "29\n",
      "30\n",
      "31\n",
      "32\n",
      "33\n",
      "34\n",
      "35\n",
      "36\n",
      "37\n",
      "38\n",
      "39\n",
      "40\n",
      "41\n",
      "42\n",
      "43\n",
      "44\n",
      "45\n",
      "46\n",
      "47\n",
      "48\n",
      "49\n",
      "50\n",
      "51\n",
      "52\n",
      "53\n",
      "54\n",
      "55\n",
      "56\n",
      "57\n",
      "58\n",
      "59\n",
      "60\n",
      "61\n",
      "62\n",
      "63\n",
      "64\n",
      "65\n",
      "66\n"
     ]
    },
    {
     "data": {
      "image/png": "[encoded data removed]",
      "text/plain": [
       "<Figure size 432x288 with 1 Axes>"
      ]
     },
     "metadata": {
      "needs_background": "light"
     },
     "output_type": "display_data"
    }
   ],
   "source": [
    "### Characterization ### \n",
    "### Int main ###########\n",
    "(tTime,nFeatures)=nframe.shape[:]\n",
    "sampleSize=1  ## training window ## \n",
    "testSize=120    ## Test Size (prediction window) ##\n",
    "t0=sampleSize*3 ### Initial training time ### \n",
    "np.random.seed(42)\n",
    "set_random_seed(42)\n",
    "\n",
    "WPP=WellheadPressurePrediction(nframe, sampleSize, testSize)#, setup=\"ND\") ## Making a predictor ##\n",
    "\n",
    "plt.clf()\n",
    "totalTime=0\n",
    "finalSection1=1+int((tTime-t0-sampleSize)/(testSize))\n",
    "finalSection2=1+int((tTime-t0+sampleSize-testSize)/(testSize))\n",
    "finalSection=min(finalSection1,finalSection2)\n",
    "\n",
    "print(finalSection)\n",
    "for i in range(finalSection):\n",
    "    print(i)\n",
    "    t1=time.time()\n",
    "    tTime=t0+i*testSize\n",
    "    WPP.train(tTime)\n",
    "    t2=time.time()\n",
    "    dt=t2-t1\n",
    "    totalTime=totalTime+dt\n",
    "    WPP.compTime.append(totalTime)    \n",
    "    WPP.predict()\n",
    "    plt.plot(WPP.cTime,WPP.cYp_test)\n",
    "    plt.plot(WPP.cTime,WPP.cY_test)    \n",
    "plt.show()"
   ]
  },
  {
   "cell_type": "code",
   "execution_count": 5,
   "metadata": {},
   "outputs": [
    {
     "ename": "NameError",
     "evalue": "name 'plt' is not defined",
     "output_type": "error",
     "traceback": [
      "\u001b[1;31m---------------------------------------------------------------------------\u001b[0m",
      "\u001b[1;31mNameError\u001b[0m                                 Traceback (most recent call last)",
      "\u001b[1;32m<ipython-input-5-a4eee19abde4>\u001b[0m in \u001b[0;36m<module>\u001b[1;34m\u001b[0m\n\u001b[1;32m----> 1\u001b[1;33m \u001b[0mplt\u001b[0m\u001b[1;33m.\u001b[0m\u001b[0mclf\u001b[0m\u001b[1;33m(\u001b[0m\u001b[1;33m)\u001b[0m\u001b[1;33m\u001b[0m\u001b[1;33m\u001b[0m\u001b[0m\n\u001b[0m\u001b[0;32m      2\u001b[0m \u001b[0mplt\u001b[0m\u001b[1;33m.\u001b[0m\u001b[0mplot\u001b[0m\u001b[1;33m(\u001b[0m\u001b[0mWPP\u001b[0m\u001b[1;33m.\u001b[0m\u001b[0mcTime\u001b[0m\u001b[1;33m,\u001b[0m\u001b[0mWPP\u001b[0m\u001b[1;33m.\u001b[0m\u001b[0mcY_test\u001b[0m\u001b[1;33m)\u001b[0m\u001b[1;33m\u001b[0m\u001b[1;33m\u001b[0m\u001b[0m\n\u001b[0;32m      3\u001b[0m \u001b[0mplt\u001b[0m\u001b[1;33m.\u001b[0m\u001b[0mplot\u001b[0m\u001b[1;33m(\u001b[0m\u001b[0mWPP\u001b[0m\u001b[1;33m.\u001b[0m\u001b[0mcTime\u001b[0m\u001b[1;33m,\u001b[0m\u001b[0mWPP\u001b[0m\u001b[1;33m.\u001b[0m\u001b[0mcYp_test\u001b[0m\u001b[1;33m)\u001b[0m\u001b[1;33m\u001b[0m\u001b[1;33m\u001b[0m\u001b[0m\n\u001b[0;32m      4\u001b[0m \u001b[0mplt\u001b[0m\u001b[1;33m.\u001b[0m\u001b[0mylim\u001b[0m\u001b[1;33m(\u001b[0m\u001b[1;36m6000\u001b[0m\u001b[1;33m,\u001b[0m\u001b[1;36m9000\u001b[0m\u001b[1;33m)\u001b[0m\u001b[1;33m\u001b[0m\u001b[1;33m\u001b[0m\u001b[0m\n\u001b[0;32m      5\u001b[0m \u001b[1;31m#plt.xlim(500,1700)\u001b[0m\u001b[1;33m\u001b[0m\u001b[1;33m\u001b[0m\u001b[1;33m\u001b[0m\u001b[0m\n",
      "\u001b[1;31mNameError\u001b[0m: name 'plt' is not defined"
     ]
    }
   ],
   "source": [
    "plt.clf()\n",
    "plt.plot(WPP.cTime,WPP.cY_test)    \n",
    "plt.plot(WPP.cTime,WPP.cYp_test)\n",
    "plt.ylim(6000,9000)\n",
    "#plt.xlim(500,1700)\n",
    "plt.show()"
   ]
  },
  {
   "cell_type": "code",
   "execution_count": 71,
   "metadata": {},
   "outputs": [
    {
     "data": {
      "image/png": "[encoded data removed]",
      "text/plain": [
       "<Figure size 432x288 with 1 Axes>"
      ]
     },
     "metadata": {
      "needs_background": "light"
     },
     "output_type": "display_data"
    },
    {
     "data": {
      "image/png": "[encoded data removed]",
      "text/plain": [
       "<Figure size 432x288 with 1 Axes>"
      ]
     },
     "metadata": {
      "needs_background": "light"
     },
     "output_type": "display_data"
    }
   ],
   "source": [
    "#WPP.model.fit(WPP.X[0:120,:,:],WPP.Y[0:120])\n",
    "#Z=WPP.model.predict(WPP.X[WPP.T-2*WPP.sampleSize-2:WPP.T-2*WPP.sampleSize-1,:,:])\n",
    "#Z[0].tolist()\n",
    "#WPP.X.shape[:]\n",
    "plt.plot(WPP.cYp_test)\n",
    "plt.show()\n",
    "plt.plot(WPP.cY_test)\n",
    "plt.show()\n",
    "#WPP.cTime\n",
    "#WPP.preFry\n",
    "#WPP.scalerY.inverse_transform(WPP.Y[120].reshape(-1,1))"
   ]
  },
  {
   "cell_type": "code",
   "execution_count": 141,
   "metadata": {},
   "outputs": [
    {
     "data": {
      "image/png": "[encoded data removed]",
      "text/plain": [
       "<Figure size 432x288 with 1 Axes>"
      ]
     },
     "metadata": {
      "needs_background": "light"
     },
     "output_type": "display_data"
    },
    {
     "data": {
      "image/png": "[encoded data removed]",
      "text/plain": [
       "<Figure size 432x288 with 1 Axes>"
      ]
     },
     "metadata": {
      "needs_background": "light"
     },
     "output_type": "display_data"
    },
    {
     "data": {
      "image/png": "[encoded data removed]",
      "text/plain": [
       "<Figure size 432x288 with 1 Axes>"
      ]
     },
     "metadata": {
      "needs_background": "light"
     },
     "output_type": "display_data"
    },
    {
     "data": {
      "image/png": "[encoded data removed]",
      "text/plain": [
       "<Figure size 432x288 with 1 Axes>"
      ]
     },
     "metadata": {
      "needs_background": "light"
     },
     "output_type": "display_data"
    },
    {
     "data": {
      "image/png": "[encoded data removed]",
      "text/plain": [
       "<Figure size 432x288 with 1 Axes>"
      ]
     },
     "metadata": {
      "needs_background": "light"
     },
     "output_type": "display_data"
    }
   ],
   "source": [
    "plt.clf()\n",
    "plt.plot(WPP.metricsGrowth['MAPE'])\n",
    "plt.show()\n",
    "plt.plot(WPP.metricsGrowth['SMAPE'])\n",
    "plt.show()\n",
    "plt.plot(WPP.metricsGrowth['NMSE'])\n",
    "plt.show()\n",
    "plt.plot(WPP.metricsGrowth['NRMSE'])\n",
    "plt.show()\n",
    "plt.plot(WPP.metricsGrowth['RMSE'])\n",
    "plt.show()"
   ]
  },
  {
   "cell_type": "code",
   "execution_count": 18,
   "metadata": {},
   "outputs": [
    {
     "data": {
      "text/plain": [
       "(8073, 5)"
      ]
     },
     "execution_count": 18,
     "metadata": {},
     "output_type": "execute_result"
    }
   ],
   "source": [
    "nframe.shape[:]"
   ]
  },
  {
   "cell_type": "code",
   "execution_count": 252,
   "metadata": {},
   "outputs": [
    {
     "data": {
      "image/png": "[encoded data removed]",
      "text/plain": [
       "<Figure size 432x288 with 1 Axes>"
      ]
     },
     "metadata": {
      "needs_background": "light"
     },
     "output_type": "display_data"
    }
   ],
   "source": [
    "history=WPP.history\n",
    "# summarize history for loss\n",
    "plt.plot(history.history['loss'])\n",
    "#plt.plot(history.history['val_loss'])\n",
    "plt.title('model loss')\n",
    "plt.ylabel('loss')\n",
    "plt.xlabel('epoch')\n",
    "plt.legend(['train', 'test'], loc='upper left')\n",
    "plt.show()\n"
   ]
  },
  {
   "cell_type": "code",
   "execution_count": 33,
   "metadata": {},
   "outputs": [],
   "source": [
    "class Uncertainty:\n",
    "\n",
    "    def __init__(self, df, sampleSize, testSize, nPredict, nSections=10):\n",
    "        self.Preds=[]\n",
    "        (self.tTime,xAxis)=df.shape\n",
    "        self.nPredict=nPredict\n",
    "        self.sampleSize=sampleSize\n",
    "        self.testSize=testSize\n",
    "        self.nSections=nSections\n",
    "#        self.nSections=1+int((self.tTime-self.sampleSize)/(self.testSize))\n",
    "        for i in range(nPredict):\n",
    "            self.Preds.append(WellheadPressurePrediction(df, self.sampleSize, self.testSize))\n",
    "            \n",
    "        self.METRICS = {\n",
    "            \"NMSE\":self.NMSE, # NSE \n",
    "            \"NRMSE\":self.NRMSE, # NSE             \n",
    "            \"RMSE\":self.rmean_squared_error,\n",
    "            \"WB\":self.WB,\n",
    "            \"SMAPE\":self.smape,\n",
    "            \"MAPE\":self.mape\n",
    "        }\n",
    "        \n",
    "        self.metricsGrowth = {\n",
    "            \"NMSE\":[], # NSE \n",
    "            \"NRMSE\":[], # NSE             \n",
    "            \"RMSE\":[],\n",
    "            \"WB\":[],\n",
    "            \"SMAPE\":[],\n",
    "            \"MAPE\":[]\n",
    "\n",
    "            \n",
    "        }\n",
    "        \n",
    "    def metric(self,X,Y):\n",
    "        for key in self.METRICS.keys():\n",
    "            self.metricsGrowth[key].append(self.METRICS[key](X,Y))#,self.testSize))\n",
    "        \n",
    "            \n",
    "            \n",
    "    def ListRun(self):\n",
    "        for i in range(self.nPredict):\n",
    "            print(i)\n",
    "            self.Run(self.Preds[i])\n",
    "        self.compTime=[]\n",
    "        L=len(self.Preds[0].compTime)\n",
    "        for i in range(L):\n",
    "            avTime=0\n",
    "            for j in range(self.nPredict):\n",
    "                avTime=avTime+self.Preds[j].compTime[i]\n",
    "            avTime=avTime/self.nPredict\n",
    "            self.compTime.append(avTime)\n",
    "\n",
    "            \n",
    "    def Run(self, WPP): \n",
    "        totalTime=0\n",
    "        t0=3*self.sampleSize\n",
    "        for i in range(self.nSections):\n",
    "            print(i)\n",
    "            t1=time.time()\n",
    "            WPP.train(t0+i*self.testSize)\n",
    "            t2=time.time()\n",
    "            dt=t2-t1\n",
    "            totalTime=totalTime+dt\n",
    "            WPP.compTime.append(totalTime)    \n",
    "            WPP.predict()   \n",
    "            \n",
    "    def uncertaintyAnalysis(self):\n",
    "        self.cTime=self.Preds[0].cTime\n",
    "        self.cY=self.Preds[0].cY_test\n",
    "        (x,)=self.Preds[0].cYp_test.shape[:]\n",
    "        self.SigmaCalc=np.zeros(x)\n",
    "        self.avgCalc=np.zeros(x)  \n",
    "        for j in range(x):        \n",
    "            avg=0            \n",
    "            for i in range(self.nPredict):\n",
    "                avg=avg+self.Preds[i].cYp_test[j]\n",
    "            avg=avg/self.nPredict\n",
    "            self.avgCalc[j]=avg                          \n",
    "        for j in range(x):\n",
    "            s2=0\n",
    "            for i in range(self.nPredict):\n",
    "                s2=s2+(self.Preds[i].cYp_test[j]-self.avgCalc[j])**2\n",
    "            s2=s2/self.nPredict\n",
    "            self.SigmaCalc[j]=math.sqrt(s2)\n",
    "            \n",
    "        self.compTime=[]\n",
    "        L=len(self.Preds[0].compTime)\n",
    "        for i in range(L):\n",
    "            avTime=0\n",
    "            for j in range(self.nPredict):\n",
    "                avTime=avTime+self.Preds[j].compTime[i]\n",
    "            avTime=avTime/self.nPredict\n",
    "            self.compTime.append(avTime)\n",
    "            \n",
    "            \n",
    "        for i in range(self.nSections-1):\n",
    "            self.metric(self.cY[i*self.testSize:(i+1)*self.testSize],self.avgCalc[i*self.testSize:(i+1)*self.testSize])\n",
    "        i=self.nSections-1\n",
    "        self.metric(self.cY[i*self.testSize:i*self.testSize+self.Preds[0].rT],self.avgCalc[i*self.testSize:i*self.testSize+self.Preds[0].rT])            \n",
    "            \n",
    "    def WB(self, Yo,Yp):\n",
    "        (L,)=Yo.shape\n",
    "        sum_o=0\n",
    "        sum_p=0\n",
    "        for i in range(L):\n",
    "            sum_o+=Yo[i]\n",
    "            sum_p+=Yp[i]\n",
    "        return 1-abs(1-sum_p/sum_o)\n",
    "    \n",
    "    def smape(self, Yo,Yp):\n",
    "        (L,)=Yo.shape        \n",
    "        Sum=0\n",
    "        for i in range(L):\n",
    "            Sum=Sum+2*abs(Yp[i]-Yo[i])/(abs(Yp[i])+abs(Yo[i]))\n",
    "        return Sum/L\n",
    "    \n",
    "    def mape(self, Yo, Yp):\n",
    "        (L,)=Yo.shape        \n",
    "        Sum=0\n",
    "        for i in range(L):\n",
    "            Sum=Sum+abs(Yp[i]-Yo[i])/(abs(Yo[i]))\n",
    "        return Sum/L\n",
    "    \n",
    "    \n",
    "    def NMSE(self, Yo, Yp):\n",
    "        (L,)=Yo.shape        \n",
    "        sum_o=0\n",
    "        sum_p=0\n",
    "        for i in range(L):\n",
    "            sum_o+=Yo[i]\n",
    "            sum_p+=Yp[i]\n",
    "        meano=sum_o/L\n",
    "        meanp=sum_p/L\n",
    "    \n",
    "        numerator=0\n",
    "        denumerator=0\n",
    "        for i in range(len(Yo)):\n",
    "            numerator=numerator+(Yp[i]-Yo[i])**2\n",
    "            denumerator=denumerator+(Yo[i]-meano)**2\n",
    "        return 1-numerator/denumerator\n",
    "\n",
    "    \n",
    "    def NRMSE(self, Yo, Yp):\n",
    "        (L,)=Yo.shape\n",
    "        sum_o=0\n",
    "        sum_p=0\n",
    "        for i in range(L):\n",
    "            sum_o+=Yo[i]\n",
    "            sum_p+=Yp[i]\n",
    "        meano=sum_o/L\n",
    "        meanp=sum_p/L\n",
    "    \n",
    "        numerator=0\n",
    "        denumerator=0\n",
    "        for i in range(len(Yo)):\n",
    "            numerator=numerator+abs(Yp[i]-Yo[i])\n",
    "            denumerator=denumerator+abs(Yo[i]-meano)\n",
    "        return 1-numerator/denumerator\n",
    "    \n",
    "    \n",
    "    def rmean_squared_error(self, Yo, Yp):\n",
    "        Sum=0\n",
    "        (L,)=Yo.shape        \n",
    "        for i in range(L):\n",
    "            Sum=Sum+(Yo[i]-Yp[i])**2\n",
    "        return math.sqrt(Sum/L)\n",
    "\n",
    "            \n",
    "            \n",
    "            \n",
    "            \n",
    "            \n",
    "    def writeOutPut(self,file):\n",
    "        self.Dict={'Time':self.cTime,'Observation':self.cY,'Forecast':self.avgCalc,'ConfidenceLevel':2*self.SigmaCalc}\n",
    "        self.ForecastDict={'Forecast_'+str(i+1):self.Preds[i].cYp_test for i in range(self.nPredict)}\n",
    "        self.Dict.update(self.ForecastDict)\n",
    "        self.DataFrame=pd.DataFrame(self.Dict)#{'Time':self.cTime,'Observation':self.cY,'Forecast':self.avgCalc,'ConfidenceLevel':2*self.SigmaCalc})#,ForecastDict})\n",
    "        self.DataFrame.to_csv(\"MetaData/Uncertainty-Forecast_\"+file+\".csv\")\n",
    "        self.MetricFrame=pd.DataFrame({'Section':[self.Preds[0].cTime[self.testSize*i] for i in range(self.nSections)], 'NMSE':self.metricsGrowth['NMSE'], 'NRMSE':self.metricsGrowth['NRMSE'],'MAPE':self.metricsGrowth['MAPE'], 'SMAPE':self.metricsGrowth['SMAPE'],'RMSE':self.metricsGrowth['RMSE'],'CalcTime':self.compTime})        \n",
    "        self.MetricFrame.to_csv(\"MetaData/MetricFrame_\"+file+\".csv\")\n",
    "                \n",
    "                \n",
    "    \n",
    "        "
   ]
  },
  {
   "cell_type": "code",
   "execution_count": 47,
   "metadata": {},
   "outputs": [
    {
     "name": "stdout",
     "output_type": "stream",
     "text": [
      "4\n",
      "0\n",
      "0\n",
      "1\n",
      "2\n",
      "3\n",
      "4\n"
     ]
    }
   ],
   "source": [
    "nSections=1+int((self.tTime-self.sampleSize)/(self.testSize))\n",
    "\n",
    "uncertain=Uncertainty(nframe, 60,120, 1, nSections)\n",
    "uncertain.ListRun()\n",
    "uncertain.uncertaintyAnalysis()\n",
    "#uncertain.writeOutPut('Reg_ND_NG_WithAnamoly_V2_timeseries_P0_P_Test')\n",
    "#uncertain1.writeOutPut('Reg_ND_NG_WithAnamoly_V2_25_timeseries_P0_P_Test')\n",
    "uncertain.writeOutPut('Test')\n"
   ]
  },
  {
   "cell_type": "code",
   "execution_count": 34,
   "metadata": {},
   "outputs": [
    {
     "name": "stdout",
     "output_type": "stream",
     "text": [
      "4\n",
      "0\n",
      "0\n",
      "1\n",
      "2\n",
      "3\n",
      "4\n",
      "5\n",
      "6\n",
      "7\n",
      "8\n",
      "9\n",
      "10\n",
      "11\n",
      "12\n",
      "13\n",
      "14\n",
      "15\n",
      "16\n",
      "17\n",
      "18\n",
      "19\n",
      "20\n",
      "21\n",
      "22\n",
      "23\n",
      "24\n",
      "25\n",
      "26\n",
      "27\n",
      "28\n",
      "29\n",
      "30\n",
      "31\n",
      "32\n",
      "33\n",
      "34\n",
      "35\n",
      "36\n",
      "37\n",
      "38\n",
      "39\n",
      "40\n",
      "41\n",
      "42\n",
      "43\n",
      "44\n",
      "45\n",
      "46\n",
      "47\n",
      "48\n",
      "49\n",
      "50\n",
      "51\n",
      "52\n",
      "53\n",
      "54\n",
      "55\n",
      "56\n",
      "57\n",
      "58\n",
      "59\n",
      "60\n",
      "61\n",
      "62\n",
      "63\n",
      "64\n",
      "65\n"
     ]
    }
   ],
   "source": [
    "## COnsider dP ## \n",
    "testSize=120 \n",
    "listSampleSize=[60] \n",
    "#testSize=[120 for i in range(len(listSampleSize))]\n",
    "nPredictant=1\n",
    "listUncertainty=[]\n",
    "for sampleSize in listSampleSize:\n",
    "    (tTime,z)=nframe.shape\n",
    "    t0=sampleSize*3\n",
    "    finalSection1=1+int((tTime-t0-sampleSize)/(testSize))\n",
    "    finalSection2=1+int((tTime-t0+sampleSize-testSize)/(testSize))\n",
    "    nSections=min(finalSection1,finalSection2)    \n",
    "    uncertain=Uncertainty(nframe, sampleSize, testSize, nPredictant, nSections)\n",
    "    listUncertainty.append(uncertain)\n",
    "    listUncertainty[-1].ListRun()\n",
    "    listUncertainty[-1].uncertaintyAnalysis()\n",
    "    listUncertainty[-1].writeOutPut('RNN-CNN_'+str(sampleSize)+'_')\n",
    "    \n",
    "    \n",
    "\n"
   ]
  },
  {
   "cell_type": "code",
   "execution_count": 16,
   "metadata": {},
   "outputs": [
    {
     "name": "stdout",
     "output_type": "stream",
     "text": [
      "(7893,) (7893,) (7920,) (7920,)\n"
     ]
    }
   ],
   "source": [
    "print(listUncertainty[-1].cTime.shape,listUncertainty[-1].cY.shape,listUncertainty[-1].avgCalc.shape,listUncertainty[-1].SigmaCalc.shape)\n",
    "#listUncertainty[-1].Dict={'Time':self.cTime,'Observation':self.cY,'Forecast':self.avgCalc,'ConfidenceLevel':2*self.SigmaCalc}\n",
    "#        self.ForecastDict={'Forecast_'+str(i+1):self.Preds[i].cYp_test for i in range(self.nPredict)}\n",
    "#        self.Dict.update(self.ForecastDict)\n",
    "#       self.DataFrame=pd.DataFrame(self.Dict)#{'Time':self.cTime,'Observation':self.cY,'Forecast':self.avgCalc,'ConfidenceLevel':2*self.SigmaCalc})#,ForecastDict})\n",
    "#        self.DataFrame.to_csv(\"MetaData/Uncertainty-Forecast_\"+file+\".csv\")\n",
    "#        self.MetricFrame=pd.DataFrame({'Section':[self.Preds[0].cTime[self.testSize*i] for i in range(self.nSections)], 'NMSE':self.metricsGrowth['NMSE'], 'NRMSE':self.metricsGrowth['NRMSE'],'MAPE':self.metricsGrowth['MAPE'], 'SMAPE':self.metricsGrowth['SMAPE'],'RMSE':self.metricsGrowth['RMSE'],'CalcTime':self.compTime})        \n",
    "#       self.MetricFrame.to_csv(\"MetaData/MetricFrame_\"+file+\".csv\")\n"
   ]
  },
  {
   "cell_type": "code",
   "execution_count": 23,
   "metadata": {},
   "outputs": [
    {
     "data": {
      "text/plain": [
       "93"
      ]
     },
     "execution_count": 23,
     "metadata": {},
     "output_type": "execute_result"
    }
   ],
   "source": [
    "listUncertainty[-1].Preds[0].rT#preFry.shape"
   ]
  },
  {
   "cell_type": "code",
   "execution_count": 30,
   "metadata": {},
   "outputs": [],
   "source": [
    "cZ=listUncertainty[-1].cTime[:30]#.shape"
   ]
  },
  {
   "cell_type": "code",
   "execution_count": 31,
   "metadata": {},
   "outputs": [
    {
     "data": {
      "text/plain": [
       "(30,)"
      ]
     },
     "execution_count": 31,
     "metadata": {},
     "output_type": "execute_result"
    }
   ],
   "source": [
    "cZ.shape"
   ]
  },
  {
   "cell_type": "code",
   "execution_count": 2,
   "metadata": {},
   "outputs": [],
   "source": [
    "import numpy as np\n",
    "A=np.zeros((2,3))"
   ]
  },
  {
   "cell_type": "code",
   "execution_count": 4,
   "metadata": {},
   "outputs": [
    {
     "data": {
      "text/plain": [
       "array([[0.],\n",
       "       [0.],\n",
       "       [0.],\n",
       "       [0.],\n",
       "       [0.],\n",
       "       [0.]])"
      ]
     },
     "execution_count": 4,
     "metadata": {},
     "output_type": "execute_result"
    }
   ],
   "source": [
    "A.reshape(-1,1)"
   ]
  },
  {
   "cell_type": "code",
   "execution_count": null,
   "metadata": {},
   "outputs": [],
   "source": []
  }
 ],
 "metadata": {
  "kernelspec": {
   "display_name": "Python 3",
   "language": "python",
   "name": "python3"
  },
  "language_info": {
   "codemirror_mode": {
    "name": "ipython",
    "version": 3
   },
   "file_extension": ".py",
   "mimetype": "text/x-python",
   "name": "python",
   "nbconvert_exporter": "python",
   "pygments_lexer": "ipython3",
   "version": "3.8.3"
  }
 },
 "nbformat": 4,
 "nbformat_minor": 2
}
