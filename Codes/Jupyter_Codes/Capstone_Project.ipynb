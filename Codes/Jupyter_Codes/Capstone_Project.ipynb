{
 "cells": [
  {
   "cell_type": "markdown",
   "metadata": {
    "toc": true
   },
   "source": [
    "<h1>Table of Contents<span class=\"tocSkip\"></span></h1>\n",
    "<div class=\"toc\"><ul class=\"toc-item\"><li><ul class=\"toc-item\"><li><span><a href=\"#A-show--strudy-to-insight-fellowship\" data-toc-modified-id=\"A-show--strudy-to-insight-fellowship-0.1\"><span class=\"toc-item-num\">0.1&nbsp;&nbsp;</span>A show  strudy to insight fellowship</a></span></li></ul></li><li><span><a href=\"#Toxic-comment-classifier\" data-toc-modified-id=\"Toxic-comment-classifier-1\"><span class=\"toc-item-num\">1&nbsp;&nbsp;</span>Toxic comment classifier</a></span></li><li><span><a href=\"#Mohammadmehdi-Ezzatabadipour-(mezzatab)\" data-toc-modified-id=\"Mohammadmehdi-Ezzatabadipour-(mezzatab)-2\"><span class=\"toc-item-num\">2&nbsp;&nbsp;</span>Mohammadmehdi Ezzatabadipour (mezzatab)</a></span></li><li><span><a href=\"#Preprocessing-and-cleaning-the-data\" data-toc-modified-id=\"Preprocessing-and-cleaning-the-data-3\"><span class=\"toc-item-num\">3&nbsp;&nbsp;</span>Preprocessing and cleaning the data</a></span></li><li><span><a href=\"#Tf-idf-transformation-to-be-fed-in-Multinomial-NB-classifier\" data-toc-modified-id=\"Tf-idf-transformation-to-be-fed-in-Multinomial-NB-classifier-4\"><span class=\"toc-item-num\">4&nbsp;&nbsp;</span>Tf-idf transformation to be fed in Multinomial NB classifier</a></span></li><li><span><a href=\"#Multinomial-NB-classifier\" data-toc-modified-id=\"Multinomial-NB-classifier-5\"><span class=\"toc-item-num\">5&nbsp;&nbsp;</span>Multinomial NB classifier</a></span></li><li><span><a href=\"#Applying-the-metrics-to-check-the-performance-our-benchmark-model\" data-toc-modified-id=\"Applying-the-metrics-to-check-the-performance-our-benchmark-model-6\"><span class=\"toc-item-num\">6&nbsp;&nbsp;</span>Applying the metrics to check the performance our benchmark model</a></span><ul class=\"toc-item\"><li><span><a href=\"#Plotting-the-resulted-confusion-matrix-for-tf-idf+Multinomial-NB\" data-toc-modified-id=\"Plotting-the-resulted-confusion-matrix-for-tf-idf+Multinomial-NB-6.1\"><span class=\"toc-item-num\">6.1&nbsp;&nbsp;</span>Plotting the resulted confusion matrix for tf-idf+Multinomial NB</a></span></li></ul></li><li><span><a href=\"#Naive-classifier,-consider-all-comments-as-non-toxic\" data-toc-modified-id=\"Naive-classifier,-consider-all-comments-as-non-toxic-7\"><span class=\"toc-item-num\">7&nbsp;&nbsp;</span>Naive classifier, consider all comments as non-toxic</a></span></li><li><span><a href=\"#Performance-of-naive-classifier-with-confusion-matrix-plot\" data-toc-modified-id=\"Performance-of-naive-classifier-with-confusion-matrix-plot-8\"><span class=\"toc-item-num\">8&nbsp;&nbsp;</span>Performance of naive classifier with confusion matrix plot</a></span></li><li><span><a href=\"#Start-the-phase-for-Solution-model,-LSTM-RNN\" data-toc-modified-id=\"Start-the-phase-for-Solution-model,-LSTM-RNN-9\"><span class=\"toc-item-num\">9&nbsp;&nbsp;</span>Start the phase for Solution model, LSTM-RNN</a></span></li><li><span><a href=\"#LSTM-Architecture\" data-toc-modified-id=\"LSTM-Architecture-10\"><span class=\"toc-item-num\">10&nbsp;&nbsp;</span>LSTM Architecture</a></span></li><li><span><a href=\"#Fitting-the-model\" data-toc-modified-id=\"Fitting-the-model-11\"><span class=\"toc-item-num\">11&nbsp;&nbsp;</span>Fitting the model</a></span></li><li><span><a href=\"#Start-measuring-the-metrics-over-the-performance-of-our-solution-model\" data-toc-modified-id=\"Start-measuring-the-metrics-over-the-performance-of-our-solution-model-12\"><span class=\"toc-item-num\">12&nbsp;&nbsp;</span>Start measuring the metrics over the performance of our solution model</a></span></li><li><span><a href=\"#Plotting-confusion-matrix-for-LSTM-(Solution-model)\" data-toc-modified-id=\"Plotting-confusion-matrix-for-LSTM-(Solution-model)-13\"><span class=\"toc-item-num\">13&nbsp;&nbsp;</span>Plotting confusion matrix for LSTM (Solution model)</a></span><ul class=\"toc-item\"><li><span><a href=\"#The-End,-Dont-hesitate-to-contact-me--and-give-comments-and-suggestions\" data-toc-modified-id=\"The-End,-Dont-hesitate-to-contact-me--and-give-comments-and-suggestions-13.1\"><span class=\"toc-item-num\">13.1&nbsp;&nbsp;</span>The End, Dont hesitate to contact me  and give comments and suggestions</a></span></li></ul></li></ul></div>"
   ]
  },
  {
   "cell_type": "markdown",
   "metadata": {},
   "source": [
    "## A show  strudy to insight fellowship ## \n",
    "# Toxic comment classifier #\n",
    "\n",
    "# Mohammadmehdi Ezzatabadipour (mezzatab)# \n",
    "Contact: Mohammadmehdi Ezzatabadipour (mezzatab)\n",
    "\n",
    "    Email: mehdi.ezatabadi3@gmail.com\n",
    "    \n",
    "        PhD in computational statistical physics \n"
   ]
  },
  {
   "cell_type": "markdown",
   "metadata": {},
   "source": [
    "I have chosen Toxic comment classifier challenge from Kaggle  \n",
    "The libraries from NLTK, sklearn and Keras are imported for this project. In this section, I lunch the preprocessig section. I tranform each comment into list of words in lowercase, and lemmatized. The stopwords are applied to reduce the size of vocabulary. Prepare pipeline is designed to both clean and preprocess data and do tf-idf tranformations.   "
   ]
  },
  {
   "cell_type": "code",
   "execution_count": null,
   "metadata": {
    "collapsed": true
   },
   "outputs": [],
   "source": [
    "from time import time\n",
    "import matplotlib.pyplot as plt\n",
    "import sklearn\n",
    "print sklearn.__version__\n",
    "from sklearn.model_selection import ShuffleSplit, train_test_split\n",
    "from sklearn.feature_selection import SelectKBest, chi2\n",
    "from sklearn.linear_model import RidgeClassifier\n",
    "from sklearn.svm import LinearSVC\n",
    "from sklearn.linear_model import SGDClassifier\n",
    "from sklearn.linear_model import Perceptron\n",
    "from sklearn.linear_model import PassiveAggressiveClassifier\n",
    "from sklearn.naive_bayes import BernoulliNB, MultinomialNB\n",
    "from sklearn.neighbors import KNeighborsClassifier\n",
    "from sklearn.neighbors import NearestCentroid\n",
    "from sklearn.ensemble import RandomForestClassifier\n",
    "from sklearn.utils.extmath import density\n",
    "from sklearn import metrics\n",
    "import numpy as np\n",
    "import pandas as pd\n",
    "from sklearn import model_selection\n",
    "from sklearn.ensemble import RandomForestClassifier\n",
    "from sklearn.pipeline import Pipeline\n",
    "from sklearn.feature_extraction.text import TfidfVectorizer\n",
    "import string\n",
    "from nltk.corpus import stopwords as sw\n",
    "from nltk.corpus import wordnet as wn\n",
    "from sklearn.preprocessing import Normalizer\n",
    "from pickle import load\n",
    "\n",
    "from nltk import wordpunct_tokenize\n",
    "from nltk.stem import WordNetLemmatizer\n",
    "from nltk import sent_tokenize\n",
    "from nltk import pos_tag\n",
    "from sklearn.base import BaseEstimator,TransformerMixin\n",
    "\n",
    "\n",
    "class NLTKPreprocesor(BaseEstimator,TransformerMixin):\n",
    "    def __init__(self,stopwords = None,punct = None,lower = True,strip=True):\n",
    "        self.lower = lower\n",
    "        self.strip = strip\n",
    "        self.stopwords = stopwords or set(sw.words('english'))\n",
    "        self.punct = punct or set(string.punctuation)\n",
    "        self.lemmatizer = WordNetLemmatizer()\n",
    "#        self.contractions = load(open('contractions.pickle','rb'))\n",
    "\n",
    "    def fit(self,X,y=None):\n",
    "        return self\n",
    "\n",
    "    def inverse_transform(self,X):\n",
    "        pass\n",
    "\n",
    "    def transform(self,X):\n",
    "        return [list(self.tokenize(doc)) for doc in X]\n",
    "\n",
    "    def tokenize(self,sDocument):\n",
    "        document=sDocument.decode('utf-8')\n",
    "#        doc.strip(\" \")\n",
    "        for sent in sent_tokenize(document):\n",
    "            for token,tag in pos_tag(wordpunct_tokenize(sent)):\n",
    "                token = token.lower() if self.lower else token\n",
    "                token = token.strip() if self.strip else token\n",
    "                token = token.strip('_') if self.strip else token\n",
    "                token = token.strip('*') if self.strip else token\n",
    "                token = token.strip('#') if self.strip else token\n",
    "\n",
    "                if token in self.stopwords:\n",
    "                    continue\n",
    "\n",
    "                if all(char in self.punct for char in token):\n",
    "                    continue\n",
    "\n",
    "                if len(token) <= 0:\n",
    "                    continue\n",
    "\n",
    "                lemma = self.lemmatize(token,tag)\n",
    "                yield lemma\n",
    "\n",
    "    def lemmatize(self,token,tag):\n",
    "        tag ={\n",
    "            'N' : wn.NOUN,\n",
    "            'V' : wn.VERB,\n",
    "            'R' : wn.ADV,\n",
    "            'J' : wn.ADJ\n",
    "        }.get(tag[0],wn.NOUN)\n",
    "        return self.lemmatizer.lemmatize(token,tag)\n",
    "\n",
    "\n",
    "def prepare_data(X,X_t):\n",
    "    preProcess = Pipeline([\n",
    "        ('NLTKpreprocess', NLTKPreprocesor()),\n",
    "        ('vectorizer', TfidfVectorizer(\n",
    "            max_df=0.90,\n",
    "            max_features=5000,\n",
    "            encoding='latin1',\n",
    "            tokenizer=lambda x: x,\n",
    "            preprocessor=None, lowercase=False))\n",
    "    ])\n",
    "    x_train = np.asanyarray(preProcess.fit_transform(X.values).todense())\n",
    "#    x_valid = np.asanyarray(preProcess.fit_transform(X_v.values).todense())    \n",
    "    x_test = np.asanyarray(preProcess.transform(X_t.values).todense())\n",
    "\n",
    "    return x_train,x_test,preProcess\n",
    "\n",
    "\n",
    "def trim(s):\n",
    "    \"\"\"Trim string to fit on terminal (assuming 80-column display)\"\"\"\n",
    "    return s if len(s) <= 80 else s[:77] + \"...\""
   ]
  },
  {
   "cell_type": "markdown",
   "metadata": {},
   "source": [
    "# Preprocessing and cleaning the data #"
   ]
  },
  {
   "cell_type": "code",
   "execution_count": null,
   "metadata": {
    "collapsed": true
   },
   "outputs": [],
   "source": [
    "if __name__ == '__main__':\n",
    "    data = pd.read_csv(\"data/train.csv\") ## reading the data from csv file ##\n",
    "    clf = NLTKPreprocesor()\n",
    "    procData = clf.transform(data.loc[:, 'comment_text']) ## preprocessing the comments ## "
   ]
  },
  {
   "cell_type": "code",
   "execution_count": 3,
   "metadata": {},
   "outputs": [
    {
     "name": "stdout",
     "output_type": "stream",
     "text": [
      "(159571,)\n",
      "(159571,)\n"
     ]
    }
   ],
   "source": [
    "pData=np.asarray(procData)\n",
    "print pData.shape[:]\n",
    "print data.loc[:,'toxic'].shape[:]"
   ]
  },
  {
   "cell_type": "markdown",
   "metadata": {},
   "source": [
    " Splitting the data into test section (0.1) and training section (0.9), I simplified the project from multi-label classifier to mono-label classifier just using toxic label. Later the training section is also devided to validation and training sets.  "
   ]
  },
  {
   "cell_type": "code",
   "execution_count": 4,
   "metadata": {
    "collapsed": true
   },
   "outputs": [],
   "source": [
    "list_classes = [\"toxic\", \"severe_toxic\", \"obscene\", \"threat\", \"insult\", \"identity_hate\"]\n",
    "X_train, X_test, y_train, y_test=train_test_split(pData, data.loc[:,'toxic'], shuffle=False, test_size=0.1)\n",
    "#trainData=data.loc[:int(Length*0.8),'comment_text'] ## Training Data\n",
    "#validData=data.loc[int(Length*0.8):int(Length*0.9),'comment_text'] ## Validation data \n",
    "#tvData=data.loc[:int(Length*0.9),'comment_text'] ## Validation data \n",
    "#testData=data.loc[int(Length*0.9):,'comment_text'] ## testing data "
   ]
  },
  {
   "cell_type": "markdown",
   "metadata": {},
   "source": [
    "Separating the toxic comments from non-toxic comments for pre-analysis and descriptive statistics "
   ]
  },
  {
   "cell_type": "code",
   "execution_count": 5,
   "metadata": {
    "collapsed": true
   },
   "outputs": [],
   "source": [
    "toxicX_train=[]\n",
    "NonToxic_train=[]\n",
    "for i,comment in enumerate(X_train):\n",
    "    if y_train[i]==1:\n",
    "        toxicX_train.append(comment)\n",
    "    else:\n",
    "        NonToxic_train.append(comment)"
   ]
  },
  {
   "cell_type": "markdown",
   "metadata": {},
   "source": [
    "Comment length distribution after preprocessing for label and non-labeled comments "
   ]
  },
  {
   "cell_type": "code",
   "execution_count": 6,
   "metadata": {},
   "outputs": [
    {
     "data": {
      "image/png": "[encoded data removed]",
      "text/plain": [
       "<matplotlib.figure.Figure at 0x13a093d10>"
      ]
     },
     "metadata": {},
     "output_type": "display_data"
    }
   ],
   "source": [
    "totalNumWords = [len(one_comment) for one_comment in X_train]\n",
    "plt.hist(totalNumWords,bins = np.arange(0,410,10))#[0,50,100,150,200,250,300,350,400])#,450,500,550,600,650,700,750,800,850,900])\n",
    "plt.title(\"Length Histogram\")\n",
    "plt.xlabel(\"Number of Words in a comment\")\n",
    "plt.ylabel(\"Frequency\")\n",
    "plt.show()"
   ]
  },
  {
   "cell_type": "code",
   "execution_count": 7,
   "metadata": {},
   "outputs": [
    {
     "data": {
      "image/png": "[encoded data removed]",
      "text/plain": [
       "<matplotlib.figure.Figure at 0x13bb5ca10>"
      ]
     },
     "metadata": {},
     "output_type": "display_data"
    }
   ],
   "source": [
    "plt.clf()\n",
    "ToxicNumWords = [len(one_comment) for one_comment in toxicX_train]\n",
    "plt.hist(ToxicNumWords,bins = np.arange(0,410,10))#[0,50,100,150,200,250,300,350,400])#,450,500,550,600,650,700,750,800,850,900])\n",
    "plt.title(\"Length histogram of Toxic Comments\")\n",
    "plt.xlabel(\"Number of Words in a comment\")\n",
    "plt.ylabel(\"Frequency\")\n",
    "plt.show()"
   ]
  },
  {
   "cell_type": "code",
   "execution_count": 8,
   "metadata": {},
   "outputs": [
    {
     "data": {
      "image/png": "[encoded data removed]",
      "text/plain": [
       "<matplotlib.figure.Figure at 0x11a797e10>"
      ]
     },
     "metadata": {},
     "output_type": "display_data"
    }
   ],
   "source": [
    "plt.clf()\n",
    "NonToxicNumWords = [len(one_comment) for one_comment in NonToxic_train]\n",
    "plt.hist(NonToxicNumWords,bins = np.arange(0,410,10))#[0,50,100,150,200,250,300,350,400])#,450,500,550,600,650,700,750,800,850,900])\n",
    "plt.xlabel(\"Number of Words in a comment\")\n",
    "plt.title(\"Length histogram of Non-Toxic Comments\")\n",
    "plt.ylabel(\"Frequency\")\n",
    "plt.show()"
   ]
  },
  {
   "cell_type": "code",
   "execution_count": 45,
   "metadata": {},
   "outputs": [
    {
     "name": "stdout",
     "output_type": "stream",
     "text": [
      "4774994\n"
     ]
    }
   ],
   "source": [
    "# putting the toxic and non-toxic comments separated numpy arrays # \n",
    "# Printing the number of nont-toxic and toxic comments #\n",
    "print np.asarray(NonToxicNumWords).sum()\n",
    "ntoxic_text_train=[]\n",
    "for x in NonToxic_train:\n",
    "    x=' '.join(x)\n",
    "    ntoxic_text_train.append(x.encode('utf-8'))\n",
    "\n",
    "ntoxic_text_train=np.asarray(ntoxic_text_train)"
   ]
  },
  {
   "cell_type": "code",
   "execution_count": 10,
   "metadata": {},
   "outputs": [
    {
     "name": "stdout",
     "output_type": "stream",
     "text": [
      "397084\n"
     ]
    }
   ],
   "source": [
    "print np.asarray(ToxicNumWords).sum()\n",
    "toxic_text_train=[]\n",
    "for x in toxicX_train:\n",
    "    x=' '.join(x)\n",
    "    toxic_text_train.append(x.encode('utf-8'))\n",
    "\n",
    "toxic_text_train=np.asarray(toxic_text_train)"
   ]
  },
  {
   "cell_type": "code",
   "execution_count": 11,
   "metadata": {},
   "outputs": [
    {
     "name": "stdout",
     "output_type": "stream",
     "text": [
      "5172078\n"
     ]
    }
   ],
   "source": [
    "print np.asarray(totalNumWords).sum()\n",
    "text_train=[]\n",
    "for x in X_train:\n",
    "    x=' '.join(x)\n",
    "    text_train.append(x.encode('utf-8'))\n",
    "\n",
    "text_test=[]\n",
    "for x in X_test:\n",
    "    x=' '.join(x)\n",
    "    text_test.append(x.encode('utf-8'))\n",
    "text_train=np.asarray(text_train)\n",
    "text_test=np.asarray(text_test)"
   ]
  },
  {
   "cell_type": "markdown",
   "metadata": {},
   "source": [
    "Plotting the pie histogram of imbalanced number of (toxic, non-toxic) comments "
   ]
  },
  {
   "cell_type": "code",
   "execution_count": 12,
   "metadata": {
    "scrolled": true
   },
   "outputs": [
    {
     "data": {
      "image/png": "[encoded data removed]",
      "text/plain": [
       "<matplotlib.figure.Figure at 0x11f4479d0>"
      ]
     },
     "metadata": {},
     "output_type": "display_data"
    }
   ],
   "source": [
    "import matplotlib.pyplot as plt\n",
    " \n",
    "# Data to plot\n",
    "labels ='Non-Toxic', 'Toxic'\n",
    "#title=\"Imbalanced classes\"\n",
    "sizes = [4774994, 397084]\n",
    "colors = ['gold', 'lightskyblue']#, 'lightcoral', 'lightskyblue']\n",
    "explode = (0.1, 0)  # explode 1st slice\n",
    " \n",
    "# Plot\n",
    "plt.pie(sizes, explode=explode, labels=labels, colors=colors,\n",
    "        autopct='%1.1f%%', shadow=True, startangle=140)\n",
    " \n",
    "plt.axis('equal')\n",
    "plt.show()\n"
   ]
  },
  {
   "cell_type": "markdown",
   "metadata": {},
   "source": [
    " Importing keras libraries for both tokenizing and LSTM-RNN classification \n",
    " \n",
    " Tokenizing the comments \n",
    " \n",
    " Later, I printed the most common words for both toxic and non-toxic comments separated. "
   ]
  },
  {
   "cell_type": "code",
   "execution_count": 13,
   "metadata": {},
   "outputs": [
    {
     "name": "stderr",
     "output_type": "stream",
     "text": [
      "Using TensorFlow backend.\n"
     ]
    }
   ],
   "source": [
    "from keras.preprocessing.text import Tokenizer\n",
    "# Any results you write \n",
    "\n",
    "from keras.layers import Input, Dense\n",
    "from keras.models import Model\n",
    "from keras.layers import Flatten\n",
    "from keras.layers.embeddings import Embedding\n",
    "from keras.layers import LSTM\n",
    "from keras.layers import GlobalMaxPool1D\n",
    "from keras.layers import Dropout\n",
    "from keras.preprocessing.sequence import pad_sequences\n",
    "from keras.callbacks import ModelCheckpoint\n",
    "\n",
    "max_features = 20000\n",
    "tokenizer = Tokenizer(num_words=max_features)\n",
    "tokenizer.fit_on_texts(list(np.asarray(text_train)))"
   ]
  },
  {
   "cell_type": "code",
   "execution_count": 49,
   "metadata": {
    "scrolled": false
   },
   "outputs": [
    {
     "name": "stdout",
     "output_type": "stream",
     "text": [
      "Popular words in non-labeled Comments\n",
      "164073\n",
      "('article', 66992)\n",
      "('page', 51570)\n",
      "('wikipedia', 43655)\n",
      "('talk', 36430)\n",
      "('use', 29616)\n",
      "('one', 27803)\n",
      "('make', 27383)\n",
      "('please', 26999)\n",
      "('would', 26438)\n",
      "('edit', 26076)\n",
      "('like', 25879)\n",
      "('see', 23014)\n",
      "('say', 22850)\n",
      "('think', 22178)\n",
      "('know', 21594)\n",
      "('source', 21069)\n",
      "('get', 19747)\n",
      "('go', 19283)\n",
      "('also', 18578)\n"
     ]
    }
   ],
   "source": [
    "import operator\n",
    "z=tokenizer.word_counts\n",
    "sorted_tokens = sorted(z.items(), key=operator.itemgetter(1))\n",
    "L=len(sorted_tokens)\n",
    "print \"Popular words in non-labeled Comments\"\n",
    "print L\n",
    "for i in range(L-1,L-20,-1):\n",
    "    print sorted_tokens[i]"
   ]
  },
  {
   "cell_type": "code",
   "execution_count": 15,
   "metadata": {
    "collapsed": true
   },
   "outputs": [],
   "source": [
    "ToxicTokenizer = Tokenizer(num_words=max_features)\n",
    "ToxicTokenizer.fit_on_texts(list(np.asarray(toxic_text_train)))"
   ]
  },
  {
   "cell_type": "code",
   "execution_count": 16,
   "metadata": {
    "collapsed": true
   },
   "outputs": [],
   "source": [
    "tz=ToxicTokenizer.word_counts\n",
    "toxic_sorted_tokens = sorted(tz.items(), key=operator.itemgetter(1))"
   ]
  },
  {
   "cell_type": "code",
   "execution_count": 48,
   "metadata": {
    "scrolled": false
   },
   "outputs": [
    {
     "name": "stdout",
     "output_type": "stream",
     "text": [
      "Popular words in Toxic Comments\n",
      "('fuck', 10357)\n",
      "('suck', 4433)\n",
      "('go', 3462)\n",
      "('wikipedia', 3411)\n",
      "('shit', 3399)\n",
      "('like', 3358)\n",
      "('u', 3170)\n",
      "('nigger', 3035)\n",
      "('get', 2773)\n",
      "('page', 2314)\n",
      "('know', 2248)\n",
      "('gay', 2175)\n",
      "('bitch', 2156)\n",
      "('hate', 2151)\n",
      "('die', 2107)\n",
      "('faggot', 2005)\n",
      "('moron', 1896)\n",
      "('make', 1801)\n",
      "('fucking', 1764)\n"
     ]
    }
   ],
   "source": [
    "tL=len(toxic_sorted_tokens)\n",
    "#print L\n",
    "print \"Popular words in Toxic Comments\"\n",
    "for i in range(tL-1,tL-20,-1):\n",
    "    print toxic_sorted_tokens[i]"
   ]
  },
  {
   "cell_type": "code",
   "execution_count": 18,
   "metadata": {
    "collapsed": true
   },
   "outputs": [],
   "source": [
    "NonToxicTokenizer = Tokenizer(num_words=max_features)\n",
    "NonToxicTokenizer.fit_on_texts(list(np.asarray(ntoxic_text_train)))"
   ]
  },
  {
   "cell_type": "code",
   "execution_count": 19,
   "metadata": {
    "collapsed": true
   },
   "outputs": [],
   "source": [
    "ntz=NonToxicTokenizer.word_counts\n",
    "ntoxic_sorted_tokens = sorted(ntz.items(), key=operator.itemgetter(1))"
   ]
  },
  {
   "cell_type": "code",
   "execution_count": 50,
   "metadata": {},
   "outputs": [
    {
     "name": "stdout",
     "output_type": "stream",
     "text": [
      "Popular words in Non-Toxic Comments\n",
      "164073\n",
      "('article', 65271)\n",
      "('page', 49256)\n",
      "('wikipedia', 40244)\n",
      "('talk', 34863)\n",
      "('use', 28817)\n",
      "('one', 26354)\n",
      "('please', 26157)\n",
      "('make', 25582)\n",
      "('would', 25505)\n",
      "('edit', 24758)\n",
      "('like', 22521)\n",
      "('see', 21981)\n",
      "('say', 21278)\n",
      "('think', 20789)\n",
      "('source', 20577)\n",
      "('know', 19346)\n",
      "('also', 17918)\n",
      "('add', 17097)\n",
      "('get', 16974)\n"
     ]
    }
   ],
   "source": [
    "nL = len(ntoxic_sorted_tokens)\n",
    "print \"Popular words in Non-Toxic Comments\"\n",
    "print L\n",
    "for i in range(nL-1,nL-20,-1):\n",
    "    print ntoxic_sorted_tokens[i]"
   ]
  },
  {
   "cell_type": "code",
   "execution_count": 52,
   "metadata": {
    "collapsed": true
   },
   "outputs": [],
   "source": [
    "#print \"Toxic Comments\" '\\t    \\t' \"Non-Toxic Comments\"\n",
    "#for i in range(1,20):\n",
    "#    print(ntoxic_sorted_tokens[nL-i],'       ',toxic_sorted_tokens[L-i])"
   ]
  },
  {
   "cell_type": "markdown",
   "metadata": {},
   "source": [
    "# Tf-idf transformation to be fed in Multinomial NB classifier #"
   ]
  },
  {
   "cell_type": "code",
   "execution_count": 22,
   "metadata": {
    "collapsed": true
   },
   "outputs": [],
   "source": [
    "list_tokenized_train = tokenizer.texts_to_sequences(text_train) \n",
    "list_tokenized_test = tokenizer.texts_to_sequences(text_test)   "
   ]
  },
  {
   "cell_type": "code",
   "execution_count": 23,
   "metadata": {},
   "outputs": [
    {
     "name": "stdout",
     "output_type": "stream",
     "text": [
      "(143613, 20000)\n",
      "(15958, 20000)\n"
     ]
    }
   ],
   "source": [
    "#from sklearn.feature_extraction.text import TfidfTransformer\n",
    "from sklearn.feature_extraction.text import TfidfVectorizer\n",
    "tfidf= TfidfVectorizer(\n",
    "            max_df=0.90,\n",
    "            max_features=20000,\n",
    "            encoding='latin1',\n",
    "            preprocessor=None, lowercase=False)\n",
    "tfidf.fit(list(np.asarray(text_train)))\n",
    "tfidf_text_train =tfidf.transform(list(np.asarray(text_train)))\n",
    "tfidf_text_test =tfidf.transform(list(np.asarray(text_test)))\n",
    "print tfidf_text_train.shape[:]\n",
    "print tfidf_text_test.shape[:]\n",
    "#print ZZ[1,1]"
   ]
  },
  {
   "cell_type": "markdown",
   "metadata": {},
   "source": [
    "# Multinomial NB classifier #"
   ]
  },
  {
   "cell_type": "code",
   "execution_count": 24,
   "metadata": {},
   "outputs": [
    {
     "data": {
      "text/plain": [
       "MultinomialNB(alpha=1.0, class_prior=None, fit_prior=True)"
      ]
     },
     "execution_count": 24,
     "metadata": {},
     "output_type": "execute_result"
    }
   ],
   "source": [
    "from sklearn.naive_bayes import MultinomialNB\n",
    "nbClf=MultinomialNB()\n",
    "nbClf.fit(tfidf_text_train, y_train)"
   ]
  },
  {
   "cell_type": "code",
   "execution_count": 55,
   "metadata": {
    "collapsed": true
   },
   "outputs": [],
   "source": [
    "tfidfPredicted=nbClf.predict(tfidf_text_test) ## Predicting the labels of test comments ##"
   ]
  },
  {
   "cell_type": "markdown",
   "metadata": {},
   "source": [
    "# Applying the metrics to check the performance our benchmark model #"
   ]
  },
  {
   "cell_type": "code",
   "execution_count": 26,
   "metadata": {
    "collapsed": true
   },
   "outputs": [],
   "source": [
    "from sklearn.metrics import hamming_loss\n",
    "from sklearn.metrics import accuracy_score\n",
    "from sklearn.metrics import f1_score, fbeta_score  \n",
    "from sklearn.metrics import precision_score\n",
    "from sklearn.metrics import recall_score\n",
    "from sklearn.metrics import confusion_matrix\n",
    "from functools import partial\n",
    "from collections import defaultdict \n",
    "\n",
    "METRICS = {\n",
    "    \"confusion_matrix\":confusion_matrix,\n",
    "    \"hamming_loss\": hamming_loss,\n",
    "    \"accuracy\": accuracy_score,\n",
    "    \"precision\": precision_score,     \n",
    "    \"recall\": recall_score, \n",
    "    \"f1\": f1_score,\n",
    "    \"f2\": partial(fbeta_score, beta=2),\n",
    "}\n",
    "\n",
    "records = defaultdict(dict)\n",
    "list_classes=[]\n",
    "list_classes.append(\"toxic\")\n",
    "for metric_name,metric in METRICS.items():\n",
    "    for j in range(len(list_classes)):\n",
    "        records[metric_name][list_classes[j]]=metric(y_test,tfidfPredicted) ## Measuring the metrics ##"
   ]
  },
  {
   "cell_type": "code",
   "execution_count": 56,
   "metadata": {},
   "outputs": [
    {
     "name": "stdout",
     "output_type": "stream",
     "text": [
      "{'accuracy': {'toxic': 0.94667251535280106},\n",
      " 'confusion_matrix': {'toxic': array([[14365,    50],\n",
      "       [  801,   742]])},\n",
      " 'f1': {'toxic': 0.63554603854389724},\n",
      " 'f2': {'toxic': 0.53273980470993687},\n",
      " 'hamming_loss': {'toxic': 0.0533274846471989},\n",
      " 'precision': {'toxic': 0.93686868686868685},\n",
      " 'recall': {'toxic': 0.48088139987038236}}\n"
     ]
    }
   ],
   "source": [
    "# Pretty printing of the metrics #\n",
    "from pprint import pprint\n",
    "pprint(dict(records))"
   ]
  },
  {
   "cell_type": "markdown",
   "metadata": {},
   "source": [
    "## Plotting the resulted confusion matrix for tf-idf+Multinomial NB ## "
   ]
  },
  {
   "cell_type": "code",
   "execution_count": 29,
   "metadata": {},
   "outputs": [
    {
     "name": "stdout",
     "output_type": "stream",
     "text": [
      "Confusion matrix, without normalization\n",
      "[[14365    50]\n",
      " [  801   742]]\n"
     ]
    }
   ],
   "source": [
    "#print records[\"confusion_matrix\"][\"toxic\"]\n",
    "plt.clf()\n",
    "plt.figure()\n",
    "plot_confusion_matrix(records[\"confusion_matrix\"][\"toxic\"],[\"Non-Toxic\",\"Toxic\"])"
   ]
  },
  {
   "cell_type": "code",
   "execution_count": 30,
   "metadata": {},
   "outputs": [
    {
     "name": "stdout",
     "output_type": "stream",
     "text": [
      "Normalized confusion matrix\n",
      "[[ 0.99653139  0.00346861]\n",
      " [ 0.5191186   0.4808814 ]]\n"
     ]
    },
    {
     "data": {
      "text/plain": [
       "<matplotlib.figure.Figure at 0x1a5b4e7d0>"
      ]
     },
     "metadata": {},
     "output_type": "display_data"
    },
    {
     "data": {
      "image/png": "[encoded data removed]",
      "text/plain": [
       "<matplotlib.figure.Figure at 0x1a5b4e1d0>"
      ]
     },
     "metadata": {},
     "output_type": "display_data"
    },
    {
     "data": {
      "image/png": "[encoded data removed]",
      "text/plain": [
       "<matplotlib.figure.Figure at 0x1a8704e90>"
      ]
     },
     "metadata": {},
     "output_type": "display_data"
    }
   ],
   "source": [
    "# I have used a code suggested in sklearn for plotting confusion matrix, check the  plot_confusion_matrix.py in this folder\n",
    "# The link is documented inside its file \n",
    "from plot_confusion_matrix import plot_confusion_matrix\n",
    "plt.figure()\n",
    "plot_confusion_matrix(records[\"confusion_matrix\"][\"toxic\"],[\"Non-Toxic\",\"Toxic\"],normalize=True,title='Normalized confusion matrix')\n",
    "plt.show()"
   ]
  },
  {
   "cell_type": "markdown",
   "metadata": {},
   "source": [
    "# Naive classifier, consider all comments as non-toxic # "
   ]
  },
  {
   "cell_type": "code",
   "execution_count": 32,
   "metadata": {},
   "outputs": [
    {
     "name": "stderr",
     "output_type": "stream",
     "text": [
      "/Users/mezzatab/anaconda2/lib/python2.7/site-packages/sklearn/metrics/classification.py:1135: UndefinedMetricWarning: F-score is ill-defined and being set to 0.0 due to no predicted samples.\n",
      "  'precision', 'predicted', average, warn_for)\n",
      "/Users/mezzatab/anaconda2/lib/python2.7/site-packages/sklearn/metrics/classification.py:1135: UndefinedMetricWarning: Precision is ill-defined and being set to 0.0 due to no predicted samples.\n",
      "  'precision', 'predicted', average, warn_for)\n"
     ]
    }
   ],
   "source": [
    "naivePred=np.zeros(tfidfPredicted.shape[:])\n",
    "tfidfPredicted.shape[:]\n",
    "naiveRecords = defaultdict(dict)\n",
    "for metric_name,metric in METRICS.items():\n",
    "    for j in range(len(list_classes)):\n",
    "        naiveRecords[metric_name][list_classes[j]]=metric(y_test,naivePred)"
   ]
  },
  {
   "cell_type": "markdown",
   "metadata": {},
   "source": [
    "# Performance of naive classifier with confusion matrix plot # "
   ]
  },
  {
   "cell_type": "code",
   "execution_count": 33,
   "metadata": {},
   "outputs": [
    {
     "name": "stdout",
     "output_type": "stream",
     "text": [
      "{'accuracy': {'toxic': 0.90330868529890962},\n",
      " 'confusion_matrix': {'toxic': array([[14415,     0],\n",
      "       [ 1543,     0]])},\n",
      " 'f1': {'toxic': 0.0},\n",
      " 'f2': {'toxic': 0.0},\n",
      " 'hamming_loss': {'toxic': 0.096691314701090367},\n",
      " 'precision': {'toxic': 0.0},\n",
      " 'recall': {'toxic': 0.0}}\n"
     ]
    }
   ],
   "source": [
    "from pprint import pprint\n",
    "pprint(dict(naiveRecords))"
   ]
  },
  {
   "cell_type": "code",
   "execution_count": 34,
   "metadata": {},
   "outputs": [
    {
     "name": "stdout",
     "output_type": "stream",
     "text": [
      "Confusion matrix, without normalization\n",
      "[[14415     0]\n",
      " [ 1543     0]]\n"
     ]
    },
    {
     "data": {
      "text/plain": [
       "<matplotlib.figure.Figure at 0x1a44a65d0>"
      ]
     },
     "metadata": {},
     "output_type": "display_data"
    },
    {
     "data": {
      "image/png": "[encoded data removed]",
      "text/plain": [
       "<matplotlib.figure.Figure at 0x1a44a6fd0>"
      ]
     },
     "metadata": {},
     "output_type": "display_data"
    }
   ],
   "source": [
    "plt.clf()\n",
    "plt.figure()\n",
    "plot_confusion_matrix(naiveRecords[\"confusion_matrix\"][\"toxic\"],[\"Non-Toxic\",\"Toxic\"],normalize=False,title='Confusion Matrix')\n",
    "plt.show()"
   ]
  },
  {
   "cell_type": "markdown",
   "metadata": {},
   "source": [
    "# Start the phase for Solution model, LSTM-RNN #\n",
    "Start padding the comments with fixed size of 100, chosen from comment length distribution "
   ]
  },
  {
   "cell_type": "code",
   "execution_count": 35,
   "metadata": {
    "collapsed": true
   },
   "outputs": [],
   "source": [
    "maxlength=100\n",
    "paddedTrain=pad_sequences(list_tokenized_train,maxlen=maxlength) # Padding the traning section\n",
    "paddedTest=pad_sequences(list_tokenized_test,maxlen=maxlength) # Padding the testing section "
   ]
  },
  {
   "cell_type": "markdown",
   "metadata": {},
   "source": [
    "# LSTM Architecture #"
   ]
  },
  {
   "cell_type": "code",
   "execution_count": 36,
   "metadata": {},
   "outputs": [
    {
     "name": "stdout",
     "output_type": "stream",
     "text": [
      "_________________________________________________________________\n",
      "Layer (type)                 Output Shape              Param #   \n",
      "=================================================================\n",
      "embedding_1 (Embedding)      (None, 100, 128)          2560000   \n",
      "_________________________________________________________________\n",
      "lstm_layer (LSTM)            (None, 100, 60)           45360     \n",
      "_________________________________________________________________\n",
      "global_max_pooling1d_1 (Glob (None, 60)                0         \n",
      "_________________________________________________________________\n",
      "dropout_1 (Dropout)          (None, 60)                0         \n",
      "_________________________________________________________________\n",
      "dense_1 (Dense)              (None, 50)                3050      \n",
      "_________________________________________________________________\n",
      "dropout_2 (Dropout)          (None, 50)                0         \n",
      "_________________________________________________________________\n",
      "dense_2 (Dense)              (None, 1)                 51        \n",
      "=================================================================\n",
      "Total params: 2,608,461.0\n",
      "Trainable params: 2,608,461.0\n",
      "Non-trainable params: 0.0\n",
      "_________________________________________________________________\n"
     ]
    }
   ],
   "source": [
    "# Importing LSTM Classifier,\n",
    "#I have written a function for making the architecture using the given inputs for LSTM classifier #\n",
    "from LSTM_Classifier import LSTM_Classifier \n",
    "checkCLF=LSTM_Classifier(embDim=128, lstmDim=60, hidDim=50, outDim=1, maxlen=100)\n",
    "checkCLF.summary()\n",
    "Path='saved_models/Ezzat/weights.best.RNN.' # I saved the trained weights for extended use and transfer learning # \n",
    "checkpoint=ModelCheckpoint(filepath=Path, \n",
    "                               verbose=1, save_best_only=True)"
   ]
  },
  {
   "cell_type": "markdown",
   "metadata": {},
   "source": [
    "# Fitting the model #"
   ]
  },
  {
   "cell_type": "code",
   "execution_count": 37,
   "metadata": {},
   "outputs": [
    {
     "name": "stdout",
     "output_type": "stream",
     "text": [
      "Train on 129251 samples, validate on 14362 samples\n",
      "Epoch 1/5\n",
      "129024/129251 [============================>.] - ETA: 0s - loss: 0.1832 - acc: 0.9390Epoch 00000: val_loss improved from inf to 0.11036, saving model to saved_models/Ezzat/weights.best.RNN.\n",
      "129251/129251 [==============================] - 265s - loss: 0.1830 - acc: 0.9390 - val_loss: 0.1104 - val_acc: 0.9602\n",
      "Epoch 2/5\n",
      "129024/129251 [============================>.] - ETA: 0s - loss: 0.0965 - acc: 0.9641Epoch 00001: val_loss improved from 0.11036 to 0.10844, saving model to saved_models/Ezzat/weights.best.RNN.\n",
      "129251/129251 [==============================] - 265s - loss: 0.0965 - acc: 0.9641 - val_loss: 0.1084 - val_acc: 0.9604\n",
      "Epoch 3/5\n",
      "129024/129251 [============================>.] - ETA: 0s - loss: 0.0790 - acc: 0.9704Epoch 00002: val_loss did not improve\n",
      "129251/129251 [==============================] - 274s - loss: 0.0791 - acc: 0.9704 - val_loss: 0.1173 - val_acc: 0.9571\n",
      "Epoch 4/5\n",
      "129024/129251 [============================>.] - ETA: 0s - loss: 0.0638 - acc: 0.9765Epoch 00003: val_loss did not improve\n",
      "129251/129251 [==============================] - 265s - loss: 0.0637 - acc: 0.9765 - val_loss: 0.1322 - val_acc: 0.9595\n",
      "Epoch 5/5\n",
      "129024/129251 [============================>.] - ETA: 0s - loss: 0.0509 - acc: 0.9817Epoch 00004: val_loss did not improve\n",
      "129251/129251 [==============================] - 270s - loss: 0.0510 - acc: 0.9817 - val_loss: 0.1443 - val_acc: 0.9547\n"
     ]
    }
   ],
   "source": [
    "epochs=5\n",
    "history=checkCLF.fit(paddedTrain, y_train, validation_split=0.1,\n",
    "                epochs=epochs,\n",
    "                batch_size=256,\n",
    "                callbacks=[checkpoint], verbose=1,\n",
    "                )"
   ]
  },
  {
   "cell_type": "code",
   "execution_count": null,
   "metadata": {
    "collapsed": true
   },
   "outputs": [],
   "source": [
    "## Plotting the learning curve ## \n",
    "plt.clf()\n",
    "val_loss_Curve=[]\n",
    "#a0_\n",
    "a1,=plt.plot(history.history['val_loss'],label='val_loss')\n",
    "a2,=plt.plot(history.history['loss'],label='loss') \n",
    "#plt.title(\"Encoded Dimention=\"+\"32\")\n",
    "plt.xlabel(\"epoch\")\n",
    "plt.ylabel(\"Loss: binary_crossentrop\")\n",
    "plt.legend(handles=[a1,a2])\n",
    "#    plt.legend(str(2+2*i)) #HillllO\")    \n",
    "plt.show()    "
   ]
  },
  {
   "cell_type": "code",
   "execution_count": 98,
   "metadata": {
    "collapsed": true
   },
   "outputs": [],
   "source": [
    "BestTrainPred=checkCLF.predict(paddedTrain) ## Predicting the results for test and training section using trained LSTM Classifier ##\n",
    "BestTestPred=checkCLF.predict(paddedTest)"
   ]
  },
  {
   "cell_type": "code",
   "execution_count": 101,
   "metadata": {
    "collapsed": true
   },
   "outputs": [],
   "source": [
    "## binary formatting the probability predictions ## \n",
    "# Setting the threshhold 0.5 #\n",
    "BinaryTrainPred=np.zeros(BestTrainPred.shape[:])\n",
    "BinaryTestPred=np.zeros(BestTestPred.shape[:])\n",
    "\n",
    "for i in range(len(BestTrainPred)):\n",
    "    for j in range(1):\n",
    "        if BestTrainPred[i,j] >= 0.5:\n",
    "            BinaryTrainPred[i,j]=1\n",
    "        else:\n",
    "            BinaryTrainPred[i,j]=0\n",
    "            \n",
    "for i in range(len(BestTestPred)):\n",
    "    for j in range(1):\n",
    "        if BestTestPred[i,j] >= 0.5:\n",
    "            BinaryTestPred[i,j]=1\n",
    "        else:\n",
    "            BinaryTestPred[i,j]=0"
   ]
  },
  {
   "cell_type": "markdown",
   "metadata": {},
   "source": [
    "# Start measuring the metrics over the performance of our solution model #"
   ]
  },
  {
   "cell_type": "code",
   "execution_count": 273,
   "metadata": {
    "collapsed": true
   },
   "outputs": [],
   "source": [
    "from sklearn.metrics import hamming_loss\n",
    "from sklearn.metrics import accuracy_score\n",
    "from sklearn.metrics import f1_score, fbeta_score  \n",
    "from sklearn.metrics import precision_score\n",
    "from sklearn.metrics import recall_score\n",
    "#from sklearn.metrics import jaccard_similarity_score\n",
    "from functools import partial\n",
    "from collections import defaultdict \n",
    "\n",
    "METRICS = {\n",
    "    \"confusion_matrix\":confusion_matrix,\n",
    "    \"hamming_loss\": hamming_loss,\n",
    "    \"accuracy\": accuracy_score,\n",
    "    \"precision\": precision_score,     \n",
    "    \"recall\": recall_score, \n",
    "    \"f1\": f1_score,\n",
    "    \"f2\": partial(fbeta_score, beta=2),\n",
    "}\n",
    "\n",
    "records = defaultdict(dict)\n",
    "list_classes=[]\n",
    "list_classes.append(\"toxic\")\n",
    "for metric_name,metric in METRICS.items():\n",
    "    records[metric_name][list_classes[0]]=metric(y_test,BinaryTestPred[:,0])\n",
    "    "
   ]
  },
  {
   "cell_type": "code",
   "execution_count": 274,
   "metadata": {},
   "outputs": [
    {
     "name": "stdout",
     "output_type": "stream",
     "text": [
      "{'accuracy': {'toxic': 0.9479258052387517},\n",
      " 'confusion_matrix': {'toxic': array([[14034,   381],\n",
      "       [  450,  1093]])},\n",
      " 'f1': {'toxic': 0.72456082200861782},\n",
      " 'f2': {'toxic': 0.71475281192780538},\n",
      " 'hamming_loss': {'toxic': 0.052074194761248277},\n",
      " 'precision': {'toxic': 0.74151967435549526},\n",
      " 'recall': {'toxic': 0.70836033700583279}}\n"
     ]
    }
   ],
   "source": [
    "from pprint import pprint\n",
    "pprint(dict(records))"
   ]
  },
  {
   "cell_type": "markdown",
   "metadata": {},
   "source": [
    "# Plotting confusion matrix for LSTM (Solution model) #"
   ]
  },
  {
   "cell_type": "code",
   "execution_count": 275,
   "metadata": {},
   "outputs": [
    {
     "name": "stdout",
     "output_type": "stream",
     "text": [
      "Confusion matrix, without normalization\n",
      "[[14034   381]\n",
      " [  450  1093]]\n"
     ]
    },
    {
     "data": {
      "text/plain": [
       "<matplotlib.figure.Figure at 0x1031ce990>"
      ]
     },
     "metadata": {},
     "output_type": "display_data"
    },
    {
     "data": {
      "image/png": "[encoded data removed]",
      "text/plain": [
       "<matplotlib.figure.Figure at 0x1031cead0>"
      ]
     },
     "metadata": {},
     "output_type": "display_data"
    }
   ],
   "source": [
    "plt.clf()\n",
    "plt.figure()\n",
    "plot_confusion_matrix(records[\"confusion_matrix\"][\"toxic\"],[\"Non-Toxic\",\"Toxic\"],normalize=False,title='Confusion Matrix')\n",
    "plt.show()"
   ]
  },
  {
   "cell_type": "markdown",
   "metadata": {
    "collapsed": true
   },
   "source": [
    "## The End, Dont hesitate to contact me  and give comments and suggestions ##\n",
    "Mohammadmehdi Ezzatabadipour (mezzatab)\n",
    "Contact Inf: \n",
    "\n",
    "    Email: mehdi.ezatabadi3@gmail.com\n",
    "    \n",
    "        PhD in computational physics "
   ]
  }
 ],
 "metadata": {
  "kernelspec": {
   "display_name": "Python 2",
   "language": "python",
   "name": "python2"
  },
  "language_info": {
   "codemirror_mode": {
    "name": "ipython",
    "version": 2
   },
   "file_extension": ".py",
   "mimetype": "text/x-python",
   "name": "python",
   "nbconvert_exporter": "python",
   "pygments_lexer": "ipython2",
   "version": "2.7.13"
  },
  "toc": {
   "base_numbering": 1,
   "nav_menu": {},
   "number_sections": true,
   "sideBar": true,
   "skip_h1_title": false,
   "title_cell": "Table of Contents",
   "title_sidebar": "Contents",
   "toc_cell": true,
   "toc_position": {},
   "toc_section_display": true,
   "toc_window_display": true
  }
 },
 "nbformat": 4,
 "nbformat_minor": 2
}
